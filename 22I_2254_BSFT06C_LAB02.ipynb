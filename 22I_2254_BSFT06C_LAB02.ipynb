{
 "cells": [
  {
   "cell_type": "markdown",
   "metadata": {
    "id": "XsCrWk5jgYB1"
   },
   "source": [
    "\n",
    "\n",
    "# **Programming for Finance Lab 1**\n",
    "**Instructor:** Muhammad **Awais**  \n",
    "**Semester:** Spring 2025  \n",
    "**Department of Financial Technology**  \n",
    "**National University of Computer and Emerging Sciences, Islamabad Campus**\n",
    "\n",
    "## Lab Instructions\n",
    "- Submit your work as a **Jupyter Notebook (.ipynb)** file.\n",
    "- Name your file in the format **“ROLLNO_SECTION_LABNO.ipynb”** (E.g., 22I_1234_BSFT06C_LAB01.ipynb).\n",
    "- Ensure all code runs correctly before submission.\n",
    "- **Do not use AI-generated code (e.g., GPT, Copilot, etc.).** Your work must be original.\n",
    "- Submit the notebook on **Google Classroom**.\n"
   ]
  },
  {
   "cell_type": "markdown",
   "metadata": {
    "id": "g2mfR0Iwgfot"
   },
   "source": [
    "### **Task 1: Declaring Financial Variables and Printing Values**\n",
    "**Objective:**  \n",
    "Learn how to define and use variables to represent financial data. This task helps you understand how to store values like stock prices and number of shares and perform simple calculations on them.\n",
    "\n",
    "**Instructions:**\n",
    "- Define a variable `stock_price` to store the price of a single stock.\n",
    "- Define `num_shares` to store the number of shares you have.\n",
    "- Calculate the `total_investment` by multiplying the stock price with the number of shares.\n",
    "- Print the values of `stock_price`, `num_shares`, and `total_investment`."
   ]
  },
  {
   "cell_type": "code",
   "execution_count": 16,
   "metadata": {
    "id": "nrYXh-x9gT95"
   },
   "outputs": [
    {
     "name": "stdout",
     "output_type": "stream",
     "text": [
      "The stock price is:  2.0\n",
      "The total number of shares are:  100\n",
      "The total investment is:  1000\n"
     ]
    }
   ],
   "source": [
    "stock_price = 2.0\n",
    "num_shares = 100\n",
    "total_investment = 1000\n",
    "print(\"The stock price is: \", stock_price)\n",
    "print(\"The total number of shares are: \", num_shares)\n",
    "print(\"The total investment is: \", total_investment)"
   ]
  },
  {
   "cell_type": "markdown",
   "metadata": {
    "id": "NQSefwJ5ld99"
   },
   "source": [
    "### **Task 2: Identifying Data Types in Finance**\n",
    "\n",
    "**Objective:**  \n",
    "Understand the different types of data used in financial calculations.\n",
    "\n",
    "**Instructions:**\n",
    "- Print the data types of `stock_price`, `num_shares`, and `total_investment` to understand how Python recognizes different types of values (e.g., numbers with decimals, integers, and results from calculations)."
   ]
  },
  {
   "cell_type": "code",
   "execution_count": 20,
   "metadata": {
    "id": "dLHleNH5liMG"
   },
   "outputs": [
    {
     "name": "stdout",
     "output_type": "stream",
     "text": [
      "The data type of stock price is:  <class 'float'>\n",
      "The data type of number of shares is:  <class 'int'>\n",
      "The data type of investment is:  <class 'int'>\n"
     ]
    }
   ],
   "source": [
    "print(\"The data type of stock price is: \", type(stock_price))\n",
    "print(\"The data type of number of shares is: \", type(num_shares))\n",
    "print(\"The data type of investment is: \", type(total_investment))"
   ]
  },
  {
   "cell_type": "markdown",
   "metadata": {
    "id": "KAwpyGzwliub"
   },
   "source": [
    "### **Task 3: Basic Arithmetic Operations for Finance**\n",
    "**Objective:**  \n",
    "Perform basic arithmetic operations commonly used in finance, such as calculating profit, loss, and percentage change.\n",
    "\n",
    "**Instructions:**\n",
    "- Define a `buying_price`, `selling_price` and `num_shares` for stock transactions.\n",
    "- Calculate the profit from the transaction (selling price minus buying price, multiplied by the number of shares).\n",
    "\n",
    "    **Profit** = (Selling Price - Buying Price) × Number of Shares\n",
    "\n",
    "- Calculate the percentage change in price from buying to selling.\n",
    "\n",
    "    **Percentage Change** = ((Selling Price - Buying Price) / Buying Price) × 100\n",
    "- Print the calculated profit and percentage change.\n"
   ]
  },
  {
   "cell_type": "code",
   "execution_count": 12,
   "metadata": {
    "id": "IVRj9C53lm-d"
   },
   "outputs": [
    {
     "name": "stdout",
     "output_type": "stream",
     "text": [
      "Your total Profit is:  5000\n",
      "The percentage change in the prices is:  50.0\n"
     ]
    }
   ],
   "source": [
    "buying_price = 100\n",
    "selling_price = 150\n",
    "num_shares = 100\n",
    "\n",
    "profit = (selling_price - buying_price) * 100\n",
    "\n",
    "percentage_change = ((selling_price - buying_price) / buying_price) * 100\n",
    "\n",
    "print(\"Your total Profit is: \",  profit)\n",
    "print(\"The percentage change in the prices is: \", percentage_change)"
   ]
  },
  {
   "cell_type": "markdown",
   "metadata": {
    "id": "_bygM0DSlnZO"
   },
   "source": [
    "# **Task 4: Practice with String Operations**\n",
    "\n",
    "This practice file is designed to help beginners explore various string operations in Python, such as case conversion, length calculation, word replacement, and substring manipulation. The exercises encourage understanding and experimentation with Python's string methods and functionalities.\n",
    "\n",
    "---\n",
    "\n",
    "## **Description of Exercises**\n",
    "\n",
    "### **1. Uppercase Conversion**\n",
    "- Create a variable with the word `\"python\"`.\n",
    "- Print the word in all uppercase letters.\n",
    "\n",
    "### **2. Lowercase Conversion**\n",
    "- Create a variable with the word `\"PROGRAMMING\"`.\n",
    "- Print the word in all lowercase letters.\n",
    "\n",
    "### **3. Word Length**\n",
    "- Get a word as input from the user.\n",
    "- Print the number of letters in the word.\n",
    "\n",
    "### **4. Word Replacement**\n",
    "- Create a sentence: `\"I like programming\"`.\n",
    "- Replace the word `\"programming\"` with `\"coding\"` and print the result.\n",
    "\n",
    "### **5. Full Name Joining**\n",
    "- Get the first name and last name as input from the user.\n",
    "- Join them with a space in between and print the full name.\n",
    "\n",
    "### **6. First and Last Letters**\n",
    "- Create a variable with a word.\n",
    "- Print the first letter of the word.\n",
    "- Print the last letter of the word.\n",
    "\n",
    "### **7. Substring Search**\n",
    "- Get a sentence as input from the user.\n",
    "- Check if the word `\"hello\"` exists in the sentence.\n",
    "- Print the result (True/False).\n",
    "\n",
    "### **8. Hyphenated Words**\n",
    "- Create two variables with words.\n",
    "- Join them together with a hyphen (`-`) in between.\n",
    "- Example: `word1 = \"blue\"`, `word2 = \"sky\"` → Output: `\"blue-sky\"`.\n",
    "\n",
    "### **Bonus Exercise: Word Repetition**\n",
    "- Get a word as input from the user.\n",
    "- Print the word 3 times, separated by spaces.\n",
    "  - Example: If the input is `\"hello\"`, the output should be: `\"hello hello hello\"`.\n",
    "\n",
    "---\n",
    "\n",
    "## **Learning Objectives**\n",
    "- Learn to manipulate strings with case conversion methods (`upper()`, `lower()`).\n",
    "- Practice counting characters using the `len()` function.\n",
    "- Understand how to replace parts of a string with the `replace()` method.\n",
    "- Explore joining and formatting strings.\n",
    "- Develop skills to check for substrings within larger strings.\n",
    "- Experiment with concatenation and repetition of strings.\n",
    "\n",
    "---\n",
    "\n"
   ]
  },
  {
   "cell_type": "code",
   "execution_count": null,
   "metadata": {
    "id": "fLljwCpOlwDF"
   },
   "outputs": [],
   "source": [
    "# Learning Simple String Operations\n",
    "\n",
    "# Example 1: Basic text operations\n",
    "print(\"Example 1: Playing with text\")\n",
    "message = \"hello\"\n",
    "print(\"Original text:\", message)\n",
    "print(\"UPPERCASE:\", message.upper())\n",
    "print(\"First letter:\", message[0])\n",
    "print()\n",
    "\n",
    "# Example 2: Joining words\n",
    "print(\"Example 2: Joining words\")\n",
    "first_word = \"blue\"\n",
    "second_word = \"sky\"\n",
    "joined_words = first_word + \" \" + second_word\n",
    "print(\"First word:\", first_word)\n",
    "print(\"Second word:\", second_word)\n",
    "print(\"Joined words:\", joined_words)\n",
    "print()\n",
    "\n",
    "# Example 3: Counting letters\n",
    "print(\"Example 3: Counting letters\")\n",
    "word = \"butterfly\"\n",
    "letter_count = len(word)\n",
    "print(\"The word is:\", word)\n",
    "print(\"Number of letters:\", letter_count)\n",
    "print()\n",
    "\n",
    "# Example 4: Finding words\n",
    "print(\"Example 4: Finding words\")\n",
    "sentence = \"I love pizza\"\n",
    "has_pizza = \"pizza\" in sentence\n",
    "print(\"The sentence:\", sentence)\n",
    "print(\"Does it contain 'pizza'?\", has_pizza)\n",
    "print()\n",
    "\n",
    "# Example 5: Simple text replacement\n",
    "print(\"Example 5: Replacing words\")\n",
    "my_food = \"I like pasta\"\n",
    "new_food = my_food.replace(\"pasta\", \"pizza\")\n",
    "print(\"Original:\", my_food)\n",
    "print(\"After replacement:\", new_food)\n"
   ]
  },
  {
   "cell_type": "code",
   "execution_count": 46,
   "metadata": {
    "id": "Xkh4HHpFwX-k"
   },
   "outputs": [
    {
     "name": "stdout",
     "output_type": "stream",
     "text": [
      "Question 1 Original text:  python\n",
      "UPPERCASE FORMAT:  PYTHON\n",
      "\n",
      "Question 2 Original Text:  PROGRAMMING\n",
      "lowercase format:  PROGRAMMING\n",
      "\n"
     ]
    },
    {
     "name": "stdin",
     "output_type": "stream",
     "text": [
      "Question 3: Enter a Word :  Football\n"
     ]
    },
    {
     "name": "stdout",
     "output_type": "stream",
     "text": [
      "The word you entered is:  Football\n",
      "The number of letters in your word are:  8\n",
      "\n",
      "Question 4 Original Sentence:  I like programming\n",
      "New Sentence : I like coding\n",
      "\n"
     ]
    },
    {
     "name": "stdin",
     "output_type": "stream",
     "text": [
      "Question 5: Enter Your First Name:  Yahya\n",
      "Enter Your Last Name:  Tariq\n"
     ]
    },
    {
     "name": "stdout",
     "output_type": "stream",
     "text": [
      "First Name Entered:  Yahya\n",
      "Last Name Entered:  Tariq\n",
      "Name Joined:  Yahya Tariq\n",
      "\n",
      "Question 6 Original word:  variable\n",
      "First Letter:  v\n",
      "Last Letter:  e\n",
      "\n"
     ]
    },
    {
     "name": "stdin",
     "output_type": "stream",
     "text": [
      "Enter a Sentence:  Hello from space\n"
     ]
    },
    {
     "name": "stdout",
     "output_type": "stream",
     "text": [
      "Question 7 Original Sentence:  hello from space\n",
      "Does it contain hello : True\n",
      "\n",
      "Question 8 first word:  cristiano\n",
      "Question 8 second word:  ronaldo\n",
      "Question 8 joined:  cristiano-ronaldo\n"
     ]
    }
   ],
   "source": [
    "#Your Tasks\n",
    "# Practice with String Operations\n",
    "\n",
    "# 1. Create a variable with the word \"python\"\n",
    "# Print it in all uppercase letters\n",
    "q1 = \"python\"\n",
    "print(\"Question 1 Original text: \", q1)\n",
    "print(\"UPPERCASE FORMAT: \", q1.upper())\n",
    "print()\n",
    "\n",
    "# 2. Create a variable with the word \"PROGRAMMING\"\n",
    "# Print it in all lowercase letters\n",
    "q2 = \"PROGRAMMING\"\n",
    "print(\"Question 2 Original Text: \", q2)\n",
    "print(\"lowercase format: \", q2)\n",
    "print()\n",
    "\n",
    "# 3. Get a word from user\n",
    "# Print how many letters are in that word\n",
    "q3 = input(\"Question 3: Enter a Word : \")\n",
    "letter_count = len(q3)\n",
    "print(\"The word you entered is: \", q3)\n",
    "print(\"The number of letters in your word are: \", letter_count)\n",
    "print()\n",
    "\n",
    "# 4. Create a sentence: \"I like programming\"\n",
    "# Replace \"programming\" with \"coding\"\n",
    "q4 = \"I like programming\"\n",
    "replace = q4.replace(\"programming\", \"coding\")\n",
    "print(\"Question 4 Original Sentence: \", q4)\n",
    "print(\"New Sentence :\", replace)\n",
    "print()\n",
    "\n",
    "# 5. Get a first name from user\n",
    "# Get a last name from user\n",
    "# Join them with a space in between\n",
    "f_name = input(\"Question 5: Enter Your First Name: \")\n",
    "l_name = input(\"Enter Your Last Name: \")\n",
    "joined_name = f_name + \" \" + l_name\n",
    "print(\"First Name Entered: \", f_name)\n",
    "print(\"Last Name Entered: \", l_name)\n",
    "print(\"Name Joined: \", joined_name)\n",
    "print()\n",
    "\n",
    "# 6. Create a word variable\n",
    "# Print its first letter\n",
    "# Print its last letter\n",
    "q6 = \"variable\"\n",
    "print(\"Question 6 Original word: \", q6)\n",
    "print(\"First Letter: \", q6[0])\n",
    "print(\"Last Letter: \", q6[-1])\n",
    "print()\n",
    "\n",
    "# 7. Get a sentence from user\n",
    "# Check if the word \"hello\" is in that sentence\n",
    "# Print the result\n",
    "q7 = input(\"Enter a Sentence: \")\n",
    "q7=q7.lower()\n",
    "has_hello = \"hello\" in q7\n",
    "\n",
    "print(\"Question 7 Original Sentence: \", q7)\n",
    "print(\"Does it contain hello :\", has_hello)\n",
    "print()\n",
    "\n",
    "# 8. Create two variables with words\n",
    "# Print them together with a hyphen in between\n",
    "# Example: word1 = \"blue\", word2 = \"sky\" → \"blue-sky\"\n",
    "\n",
    "word1 = \"cristiano\"\n",
    "word2 = \"ronaldo\"\n",
    "joined = word1 + \"-\" + word2\n",
    "\n",
    "print(\"Question 8 first word: \", word1)\n",
    "print(\"Question 8 second word: \", word2)\n",
    "print(\"Question 8 joined: \", joined)\n"
   ]
  },
  {
   "cell_type": "markdown",
   "metadata": {
    "id": "KxIMOLlQlwfG"
   },
   "source": [
    "### **Task 5: Calculate Total Cost of Investment**\n",
    "\n",
    "**Objective:**  \n",
    "Calculate the total cost of an investment based on the stock name, price per share, and number of shares the user wants to buy.\n",
    "\n",
    "### Instructions:\n",
    "1. Prompt the user to input the following:\n",
    "   - **Stock Name**: The name of the stock.\n",
    "   - **Price per Share**: The price of one share of the stock.\n",
    "   - **Number of Shares**: The number of shares the user wants to buy.\n",
    "2. Use the formula to calculate the total cost of the investment:\n",
    "\n",
    "   **Total Cost** = Price per Share × Number of Shares\n",
    "\n",
    "*   List item\n",
    "*   List item\n",
    "\n",
    "\n",
    "3. Display the **Total Cost** of the investment to the user.\n",
    "   "
   ]
  },
  {
   "cell_type": "code",
   "execution_count": 1,
   "metadata": {
    "id": "fugul8HMlzHx"
   },
   "outputs": [
    {
     "name": "stdin",
     "output_type": "stream",
     "text": [
      "Enter Stock Name:  YAH\n",
      "Enter price per share:  10\n",
      "Enter Number of Shares:  200\n"
     ]
    },
    {
     "name": "stdout",
     "output_type": "stream",
     "text": [
      "\n",
      "Stock Name:  YAH\n",
      "Price Per Share:  10\n",
      "Number of Shares:  200\n",
      "Total Cost =  2000\n"
     ]
    }
   ],
   "source": [
    "stock_name = input(\"Enter Stock Name: \")\n",
    "pps = int(input(\"Enter price per share: \"))\n",
    "nos = int(input(\"Enter Number of Shares: \"))\n",
    "print()\n",
    "cost = pps * nos\n",
    "\n",
    "print(\"Stock Name: \", stock_name)\n",
    "print(\"Price Per Share: \", pps)\n",
    "print(\"Number of Shares: \", nos)\n",
    "print(\"Total Cost = \", cost)\n"
   ]
  },
  {
   "cell_type": "markdown",
   "metadata": {
    "id": "SB6mP3Tllzio"
   },
   "source": [
    "### **Task 6: Simple Interest Calculator for Investment Growth**\n",
    "**Objective:**  \n",
    "Apply basic financial formulas to calculate the growth of an investment using simple interest.\n",
    "\n",
    "**Instructions:**\n",
    "- Ask the user for the principal amount (initial investment), interest rate, and the time period (in years).\n",
    "- Calculate the simple interest using the formula: Interest = (Principal * Rate * Time) / 100.\n",
    "- Calculate and display the total amount after adding the interest to the principal."
   ]
  },
  {
   "cell_type": "code",
   "execution_count": 13,
   "metadata": {
    "id": "jGwGSAqQl3YN"
   },
   "outputs": [
    {
     "name": "stdin",
     "output_type": "stream",
     "text": [
      "Enter Your Initial Investment  1000\n",
      "Enter Interest Rate (in decimals):  0.05\n",
      "Enter The Time Period:  10\n"
     ]
    },
    {
     "name": "stdout",
     "output_type": "stream",
     "text": [
      "Princiapl Amount:  1000\n",
      "Interest Rate:  0.05\n",
      "Time Period (in Years) :  10\n",
      "Interest Amount:  500.0\n",
      "Total Amount:  1500.0\n"
     ]
    }
   ],
   "source": [
    "principal = int(input(\"Enter Your Initial Investment \"))\n",
    "interest_rate = float(input(\"Enter Interest Rate (in decimals): \"))\n",
    "time = int(input(\"Enter The Time Period: \"))\n",
    "\n",
    "interest = (principal * interest_rate * time) \n",
    "total_amount = interest + principal\n",
    "\n",
    "print(\"Princiapl Amount: \", principal)\n",
    "print(\"Interest Rate: \", interest_rate)\n",
    "print(\"Time Period (in Years) : \", time)\n",
    "print(\"Interest Amount: \", interest)\n",
    "print(\"Total Amount: \", total_amount)\n",
    "                 \n",
    "                "
   ]
  },
  {
   "cell_type": "markdown",
   "metadata": {
    "id": "5Rf8jI6QmA-u"
   },
   "source": [
    "### **Task 7: Currency Conversion Calculator**\n",
    "**Objective:**  \n",
    "Convert currency values from USD to other major currencies.  \n",
    "\n",
    "**Instructions:**  \n",
    "1. Ask the user for an amount in **USD**.  \n",
    "2. Convert the amount into the following currencies using **fixed exchange rates** (example rates as of 2025, update as needed):  \n",
    "   - **Euros (EUR)** → 1 USD = 0.91 EUR  \n",
    "   - **British Pounds (GBP)** → 1 USD = 0.76 GBP  \n",
    "   - **Pakistani Rupees (PKR)** → 1 USD = 280 PKR  \n"
   ]
  },
  {
   "cell_type": "code",
   "execution_count": 11,
   "metadata": {
    "id": "MiWx357tmGFp"
   },
   "outputs": [
    {
     "name": "stdin",
     "output_type": "stream",
     "text": [
      "Enter your amount (in USD):  1000\n"
     ]
    },
    {
     "name": "stdout",
     "output_type": "stream",
     "text": [
      "USD AMOUNT: $  1000\n",
      "EURO AMOUNT: EUR  910.0\n",
      "BRITISH POUNDS AMOUNT: GBP  760.0\n",
      "PAKISTANI AMOUNT: PKR  280000\n"
     ]
    }
   ],
   "source": [
    "usd = int(input(\"Enter your amount (in USD): \"))\n",
    "\n",
    "eur = usd * 0.91\n",
    "gbp = usd * 0.76\n",
    "pkr = usd * 280\n",
    "\n",
    "print(\"USD AMOUNT: $ \", usd)\n",
    "print(\"EURO AMOUNT: EUR \", eur)\n",
    "print(\"BRITISH POUNDS AMOUNT: GBP \", gbp)\n",
    "print(\"PAKISTANI AMOUNT: PKR \", pkr)\n",
    "\n",
    "                "
   ]
  },
  {
   "cell_type": "markdown",
   "metadata": {
    "id": "mLwwXRcAtnNr"
   },
   "source": [
    "### **Task 8: Finding the Largest Investment Value**\n",
    "**Objective:**  \n",
    "Compare investment amounts to determine the largest value.  \n",
    "\n",
    "**Instructions:**  \n",
    "1. Ask the user to enter **three different investment amounts**.  \n",
    "2. Use Python’s built-in functions to determine the **largest investment**.  "
   ]
  },
  {
   "cell_type": "code",
   "execution_count": 15,
   "metadata": {
    "id": "YDDXstK-tsmm"
   },
   "outputs": [
    {
     "name": "stdin",
     "output_type": "stream",
     "text": [
      "Enter Investment 1 Amount:  1000\n",
      "Enter Investment 2 Amount:  1001\n",
      "Enter Investment 3 Amount:  100000\n"
     ]
    },
    {
     "name": "stdout",
     "output_type": "stream",
     "text": [
      "Investment 1 :  1000\n",
      "Investment 2 :  1001\n",
      "Investment 3 :  100000\n",
      "Largest Investment:  100000\n"
     ]
    }
   ],
   "source": [
    "investment1 = int(input(\"Enter Investment 1 Amount: \"))\n",
    "investment2 = int(input(\"Enter Investment 2 Amount: \"))\n",
    "investment3 = int(input(\"Enter Investment 3 Amount: \"))\n",
    "\n",
    "maximum = max([investment1, investment2, investment3])\n",
    "\n",
    "print(\"Investment 1 : \", investment1)\n",
    "print(\"Investment 2 : \", investment2)\n",
    "print(\"Investment 3 : \", investment3)\n",
    "print(\"Largest Investment: \", maximum)\n"
   ]
  },
  {
   "cell_type": "markdown",
   "metadata": {
    "id": "gma9brebt0Px"
   },
   "source": [
    "### **Task 9: Simple Calculator for Basic Operations**\n",
    "\n",
    "**Objective:**  \n",
    "Create a simple calculator program that performs basic arithmetic operations on two numbers. The user is prompted to enter two numbers, and the program automatically performs the following operations:\n",
    "\n",
    "- **Addition**\n",
    "- **Subtraction**\n",
    "- **Multiplication**\n",
    "- **Division** (with a check for division by zero)\n",
    "- **Exponentiation**\n",
    "\n",
    "### Instructions:\n",
    "1. The program will ask the user to input two numbers.\n",
    "2. The program will then display the results of the following operations on the two numbers:\n",
    "   - **Addition**: Adds the two numbers.\n",
    "   - **Subtraction**: Subtracts the second number from the first number.\n",
    "   - **Multiplication**: Multiplies the two numbers.\n",
    "   - **Division**: Divides the first number by the second number. If division by zero is attempted, the program will display an error message.\n",
    "   - **Exponentiation**: Raises the first number to the power of the second number.\n",
    "   \n",
    "\n"
   ]
  },
  {
   "cell_type": "code",
   "execution_count": 19,
   "metadata": {},
   "outputs": [
    {
     "name": "stdin",
     "output_type": "stream",
     "text": [
      "Enter Your First Number:  5\n",
      "Enter Your Second Number:  3\n"
     ]
    },
    {
     "name": "stdout",
     "output_type": "stream",
     "text": [
      "First Number:  5\n",
      "Second Number:  3\n",
      "Addition:  8\n",
      "Subtraction:  2\n",
      "Multiplication:  15\n",
      "Division:  1.6666666666666667\n",
      "Exponent:  125\n"
     ]
    }
   ],
   "source": [
    "num1 = int(input(\"Enter Your First Number: \"))\n",
    "num2 = int(input(\"Enter Your Second Number: \"))     \n",
    "\n",
    "add = num1 + num2\n",
    "subtract = num1 - num2\n",
    "multiplication = num1 * num2\n",
    "division = num1 / num2\n",
    "exponent = num1 ** num2\n",
    "\n",
    "\n",
    "print(\"First Number: \", num1)\n",
    "print(\"Second Number: \", num2)\n",
    "\n",
    "print(\"Addition: \", add)\n",
    "print(\"Subtraction: \", subtract)\n",
    "print(\"Multiplication: \", multiplication)\n",
    "print(\"Division: \", division)\n",
    "print(\"Exponent: \", exponent)\n",
    "\n"
   ]
  },
  {
   "cell_type": "markdown",
   "metadata": {
    "id": "1Ys9mGiymFIJ"
   },
   "source": [
    "### **Task 10: Calculate Compound Interest**\n",
    "\n",
    "**Objective:**  \n",
    "Create a program that calculates the compound interest on an investment.\n",
    "\n",
    "### Instructions:\n",
    "1. Ask the user to input:\n",
    "   - **Principal** (Initial Investment)\n",
    "   - **Rate** (Annual Interest Rate in percentage)\n",
    "   - **Time** (Number of years)\n",
    "   - **Frequency** (Number of times the interest is compounded per year)\n",
    "\n",
    "2. Use the compound interest formula:\n",
    "            A = P * (1 + r/n)^(nt)\n",
    "Where:\n",
    "- **A** = Final amount after interest\n",
    "- **P** = Principal (Initial investment)\n",
    "- **r** = Annual interest rate (decimal form)\n",
    "- **t** = Time in years\n",
    "- **n** = Number of times the interest is compounded per year\n",
    "\n",
    "3. Calculate the compound interest:\n",
    "        Compound Interest = A - P\n",
    "\n",
    "\n",
    "4. Display the **compound interest** and the **final amount**.\n",
    "\n",
    "\n"
   ]
  },
  {
   "cell_type": "code",
   "execution_count": 27,
   "metadata": {
    "id": "Nw4Mg7YBmH2c"
   },
   "outputs": [
    {
     "name": "stdin",
     "output_type": "stream",
     "text": [
      "Enter Your Initial Investment  1000\n",
      "Enter Interest Rate (in decimals):  0.10\n",
      "Enter The Time Period:  10\n",
      "Enter the Frequency:  2\n"
     ]
    },
    {
     "name": "stdout",
     "output_type": "stream",
     "text": [
      "Princiapl Amount:  1000\n",
      "Interest Rate:  0.1\n",
      "Time Period (in Years) :  10\n",
      "Frequency :  2\n",
      "Compound Interest Amount:  1653.2977051444223\n",
      "Total Amount:  2653.2977051444223\n"
     ]
    }
   ],
   "source": [
    "principal = int(input(\"Enter Your Initial Investment \"))\n",
    "interest_rate = float(input(\"Enter Interest Rate (in decimals): \"))\n",
    "time = int(input(\"Enter The Time Period: \"))\n",
    "frequency = int(input(\"Enter the Frequency: \"))\n",
    "\n",
    "amount = principal * (1 + interest_rate / frequency) ** (frequency * time)\n",
    "\n",
    "compound_interest = amount - principal\n",
    "\n",
    "print(\"Princiapl Amount: \", principal)\n",
    "print(\"Interest Rate: \", interest_rate)\n",
    "print(\"Time Period (in Years) : \", time)\n",
    "print(\"Frequency : \", frequency)\n",
    "print(\"Compound Interest Amount: \", compound_interest)\n",
    "print(\"Total Amount: \", amount)"
   ]
  },
  {
   "cell_type": "markdown",
   "metadata": {
    "id": "Ijwus5kEmR9n"
   },
   "source": [
    "### Final Deliverables\n",
    "- Submit a Notebook (.ipynb) file containing all tasks.\n",
    "- Submit it on Google Classroom following the naming convention.\n",
    "- Ensure originality; AI-generated code is not allowed."
   ]
  }
 ],
 "metadata": {
  "colab": {
   "provenance": []
  },
  "kernelspec": {
   "display_name": "Python [conda env:base] *",
   "language": "python",
   "name": "conda-base-py"
  },
  "language_info": {
   "codemirror_mode": {
    "name": "ipython",
    "version": 3
   },
   "file_extension": ".py",
   "mimetype": "text/x-python",
   "name": "python",
   "nbconvert_exporter": "python",
   "pygments_lexer": "ipython3",
   "version": "3.12.7"
  }
 },
 "nbformat": 4,
 "nbformat_minor": 4
}
