{
 "cells": [
  {
   "cell_type": "markdown",
   "metadata": {
    "id": "mbcflQzCzRe7"
   },
   "source": [
    "# **Programming for Finance -Week 3 Lab Tasks**\n",
    "\n",
    "This document contains ten detailed lab tasks covering control structures, loops, and financial applications using Python. Each task includes a real-world finance scenario to help you understand how programming concepts apply to financial analysis.\n",
    "\n",
    "---\n",
    "\n",
    "## **Task 1: Conditional Statements in Finance**\n",
    "\n",
    "### **Objective:**  \n",
    "You will write a Python script that determines loan eligibility based on income and credit score. This task introduces **conditional statements (`if`, `if-else`)** to make decisions.\n",
    "\n",
    "### **Scenario:**  \n",
    "A bank wants to automate its loan approval process. The decision to approve or reject a loan depends on two factors:\n",
    "1. The applicant's **income** must be greater than $40,000.\n",
    "2. The applicant's **credit score** must be above 650.\n",
    "\n",
    "### **Instructions:**  \n",
    "1. Ask the user to enter their income and credit score.\n",
    "2. Use an `if` statement to check both conditions.\n",
    "3. Print `\"Loan Approved\"` if both conditions are met.\n",
    "4. Print `\"Loan Denied\"` otherwise.\n",
    "---"
   ]
  },
  {
   "cell_type": "code",
   "execution_count": 11,
   "metadata": {
    "colab": {
     "base_uri": "https://localhost:8080/"
    },
    "id": "u2X9_6HkzmcP",
    "outputId": "d47f9092-476f-4298-8d5e-211284739136"
   },
   "outputs": [
    {
     "name": "stdin",
     "output_type": "stream",
     "text": [
      "Enter Your Income:  10000\n",
      "Enter Credit Score:  700\n"
     ]
    },
    {
     "name": "stdout",
     "output_type": "stream",
     "text": [
      "Loan Denied\n"
     ]
    }
   ],
   "source": [
    "income = int(input(\"Enter Your Income: \"))\n",
    "c_score = int(input(\"Enter Credit Score: \"))\n",
    "\n",
    "if (income > 40000 and c_score > 650):\n",
    "    print (\"Loan Approved\")\n",
    "else:\n",
    "    print(\"Loan Denied\")"
   ]
  },
  {
   "cell_type": "markdown",
   "metadata": {
    "id": "epSF3BIczl3O"
   },
   "source": [
    "\n",
    "## Task 2: Stock Trading Decision\n",
    "\n",
    "### **Objective:**  \n",
    "You will use `if-elif-else` conditions to create a simple stock trading decision system.\n",
    "\n",
    "### **Scenario:**  \n",
    "A stock trader follows these rules:\n",
    "- **Buy** a stock if the price is below `$`100.\n",
    "- **Hold** if the price is between `$`100 and `$`150.\n",
    "- **Sell** if the price is above `$`150.\n",
    "\n",
    "### **Instructions:**  \n",
    "1. Ask the user to enter the stock price.\n",
    "2. Implement `if-elif-else` conditions to decide whether to buy, hold, or sell the stock.\n",
    "3. Print the appropriate decision.\n",
    "---\n"
   ]
  },
  {
   "cell_type": "code",
   "execution_count": 15,
   "metadata": {
    "colab": {
     "base_uri": "https://localhost:8080/"
    },
    "id": "PO-MycyBzlf_",
    "outputId": "2fdd539f-0e80-46ad-dade-219acd4b5198"
   },
   "outputs": [
    {
     "name": "stdin",
     "output_type": "stream",
     "text": [
      "Enter the stock price:  10\n"
     ]
    },
    {
     "name": "stdout",
     "output_type": "stream",
     "text": [
      "Buy the stock\n"
     ]
    }
   ],
   "source": [
    "s_price = int(input(\"Enter the stock price: \"))\n",
    "if s_price < 100:\n",
    "    print(\"Buy the stock\")\n",
    "elif 100 <= s_price <= 150:\n",
    "    print(\"Hold the stock\")\n",
    "else:\n",
    "    print(\"Sell the stock\")"
   ]
  },
  {
   "cell_type": "markdown",
   "metadata": {
    "id": "JOb8cKf0zrcW"
   },
   "source": [
    "\n",
    "## Task 3: Nested Conditions for Loan Approval\n",
    "\n",
    "### **Objective:**  \n",
    "You will implement **nested `if` statements** to create a more detailed loan approval system.\n",
    "\n",
    "### **Scenario:**  \n",
    "A bank evaluates loan applications based on:\n",
    "1. **Income:** Must be greater than $40,000.\n",
    "2. **Credit Score:** Must be greater than 650.\n",
    "3. **Debt-to-Income Ratio:** Must be below 40%.\n",
    "\n",
    "### **Instructions:**  \n",
    "1. Ask the user to input income, credit score, and debt-to-income ratio.\n",
    "2. Use **nested `if` statements** to check the three conditions.\n",
    "3. Print `\"Loan Approved\"` only if all conditions are met.\n",
    "4. Otherwise, print the specific reason for rejection.\n",
    "\n",
    "---\n",
    "\n"
   ]
  },
  {
   "cell_type": "code",
   "execution_count": 21,
   "metadata": {
    "colab": {
     "base_uri": "https://localhost:8080/"
    },
    "id": "dQwWr97Bzxof",
    "outputId": "82e98908-7b91-4688-959d-f52f0f43a71a"
   },
   "outputs": [
    {
     "name": "stdin",
     "output_type": "stream",
     "text": [
      "Enter Your Income:  41000\n",
      "Enter Credit Score:  651\n",
      "Enter Your Debt to Income Ratio (in decimals):  0.41\n"
     ]
    },
    {
     "name": "stdout",
     "output_type": "stream",
     "text": [
      "Loan Denied due to high debt-to-income ratio\n"
     ]
    }
   ],
   "source": [
    "income = int(input(\"Enter Your Income: \"))\n",
    "c_score = int(input(\"Enter Credit Score: \"))\n",
    "dti_ratio = float(input(\"Enter Your Debt to Income Ratio (in decimals): \"))\n",
    "\n",
    "if income > 40000:\n",
    "    if c_score > 650:\n",
    "        if dti_ratio < 0.40:\n",
    "            print(\"Loan Approved\")\n",
    "        else:\n",
    "            print(\"Loan Denied due to high debt-to-income ratio\")\n",
    "    else: \n",
    "        print(\"Loan denied due to low credit score\")\n",
    "else: \n",
    "    print(\"Loan Denied to Income not meeting the income standards\")\n"
   ]
  },
  {
   "cell_type": "markdown",
   "metadata": {
    "id": "ec9RScpRzx8N"
   },
   "source": [
    "## Task 4: Investment Growth Using Loops\n",
    "\n",
    "### **Objective:**  \n",
    "You will use a **`for` loop** to calculate compound interest over multiple years.\n",
    "\n",
    "### **Scenario:**  \n",
    "You invest $1,000 at an annual interest rate of 5%. The investment grows for 10 years.\n",
    "\n",
    "### **Instructions:**  \n",
    "1. Use the formula:  \n",
    "   $ A = P (1 + r)^t $\n",
    "   where:  \n",
    "   - `P` is the principal amount ($1,000)  \n",
    "   - `r` is the interest rate (5% or 0.05)  \n",
    "   - `t` is the number of years  \n",
    "2. Use a `for` loop to update and print the investment value each year.\n",
    "\n",
    "---\n"
   ]
  },
  {
   "cell_type": "markdown",
   "metadata": {
    "id": "85aV92NR7isO"
   },
   "source": [
    "```python\n",
    "#for example\n",
    "principal = 1000\n",
    "rate = 0.05\n",
    "years = 10\n",
    "```"
   ]
  },
  {
   "cell_type": "code",
   "execution_count": 43,
   "metadata": {
    "colab": {
     "base_uri": "https://localhost:8080/"
    },
    "id": "UNChQwSkz1Z7",
    "outputId": "397adb89-c861-4b42-bc1e-75d8040f85ba"
   },
   "outputs": [
    {
     "name": "stdout",
     "output_type": "stream",
     "text": [
      "Year 1: 1050.00\n",
      "Year 2: 1102.50\n",
      "Year 3: 1157.63\n",
      "Year 4: 1215.51\n",
      "Year 5: 1276.28\n",
      "Year 6: 1340.10\n",
      "Year 7: 1407.10\n",
      "Year 8: 1477.46\n",
      "Year 9: 1551.33\n",
      "Year 10: 1628.89\n"
     ]
    }
   ],
   "source": [
    "principal = 1000\n",
    "rate = 0.05\n",
    "years = 10\n",
    "for year in range(1,  years + 1):\n",
    "    Amount = principal * (1 + rate) ** year\n",
    "    print(f\"Year {year}: {Amount:.2f}\")\n",
    "    "
   ]
  },
  {
   "cell_type": "markdown",
   "metadata": {
    "id": "QlFzNV9Qz1un"
   },
   "source": [
    "\n",
    "## Task 5: Loan Repayment Simulator (`while` loop)\n",
    "\n",
    "### **Objective:**  \n",
    "You will use a **`while` loop** to simulate a loan repayment.\n",
    "\n",
    "### **Scenario:**  \n",
    "A borrower has a loan of $5,000 and makes monthly payment of 200`$` The loan balance should be updated after each payment until it reaches zero.\n",
    "\n",
    "### **Instructions:**  \n",
    "1. Start with a loan balance of $5,000.\n",
    "2. Deduct `$`200 every month.\n",
    "3. Print the balance each month.\n",
    "4. Stop the loop when the balance reaches zero.\n",
    "\n",
    "---\n"
   ]
  },
  {
   "cell_type": "code",
   "execution_count": 10,
   "metadata": {},
   "outputs": [
    {
     "name": "stdout",
     "output_type": "stream",
     "text": [
      "Balance:  4800\n",
      "Balance:  4600\n",
      "Balance:  4400\n",
      "Balance:  4200\n",
      "Balance:  4000\n",
      "Balance:  3800\n",
      "Balance:  3600\n",
      "Balance:  3400\n",
      "Balance:  3200\n",
      "Balance:  3000\n",
      "Balance:  2800\n",
      "Balance:  2600\n",
      "Balance:  2400\n",
      "Balance:  2200\n",
      "Balance:  2000\n",
      "Balance:  1800\n",
      "Balance:  1600\n",
      "Balance:  1400\n",
      "Balance:  1200\n",
      "Balance:  1000\n",
      "Balance:  800\n",
      "Balance:  600\n",
      "Balance:  400\n",
      "Balance:  200\n",
      "Balance:  0\n"
     ]
    }
   ],
   "source": [
    "loan_balance = 5000\n",
    "monthly_payment = 200\n",
    "month = 0\n",
    "while loan_balance > 0:\n",
    "    month += 1\n",
    "    loan_balance -= monthly_payment\n",
    "    print(\"Balance: \", loan_balance)"
   ]
  },
  {
   "cell_type": "markdown",
   "metadata": {
    "id": "Hfku65TTz5oq"
   },
   "source": [
    "\n",
    "## Task 6: Skipping Bad Stock Data (`continue` statement)\n",
    "\n",
    "### **Objective:**  \n",
    "You will use a **`for` loop** with `continue` to process stock prices, skipping negative values.\n",
    "\n",
    "### **Scenario:**  \n",
    "A dataset contains stock prices, but some values are negative due to data errors.\n",
    "\n",
    "### **Instructions:**  \n",
    "1. Create a list of stock prices (some positive, some negative).\n",
    "2. Use a `for` loop to process the prices.\n",
    "3. If a price is negative, use `continue` to skip it.\n",
    "4. Print only valid prices.\n",
    "\n",
    "---\n"
   ]
  },
  {
   "cell_type": "code",
   "execution_count": 26,
   "metadata": {
    "colab": {
     "base_uri": "https://localhost:8080/"
    },
    "id": "5ZWAhyVLz9Kw",
    "outputId": "71887647-79b3-4962-cca3-6ad68ecc7d40"
   },
   "outputs": [
    {
     "name": "stdout",
     "output_type": "stream",
     "text": [
      "Valid Prices:\n",
      "100\n",
      "200\n",
      "300\n"
     ]
    }
   ],
   "source": [
    "prices = [100, -50, 200, -10, 300]\n",
    "print(\"Valid Prices:\")\n",
    "for price in prices:\n",
    "    if price < 0:\n",
    "        continue\n",
    "    print(price)\n"
   ]
  },
  {
   "cell_type": "markdown",
   "metadata": {
    "id": "GBtqszB782NF"
   },
   "source": [
    "### **Task 7 Description: Interactive Loan Interest Calculator**\n",
    "\n",
    "#### **Objective:**  \n",
    "This task allows you to interactively calculate the total interest on a loan based on the selected loan amount and interest rate. The program will dynamically calculate the total interest using the provided loan amount and interest rate.\n",
    "\n",
    "#### **Instructions:**  \n",
    "\n",
    "1. **Loan Amount Slider**:  \n",
    "   - Use the **loan amount slider** to select a loan amount.  \n",
    "   - The range for the loan amount is from **10,000 PKR** to **500,000 PKR**, with a step of **10,000 PKR**.  \n",
    "   - The default value is set to **100,000 PKR**.\n",
    "\n",
    "2. **Interest Rate Slider**:  \n",
    "   - Use the **interest rate slider** to select the interest rate for the loan.  \n",
    "   - The range for the interest rate is from **1%** to **10%**, with a step of **0.5%**.  \n",
    "   - The default value is set to **5%**.\n",
    "\n",
    "3. **Interest Calculation**:  \n",
    "   - The total interest on the loan is calculated using the formula:  \n",
    "     \n",
    "  $\\text{Total Interest} = \\frac{\\text{Loan Amount} \\times \\text{Interest Rate}}{100}$\n",
    "   - The total interest is displayed in PKR.\n",
    "\n",
    "#### **Steps**:\n",
    "1. Use the `ipywidgets.IntSlider` to select the loan amount and `ipywidgets.FloatSlider` to select the interest rate.\n",
    "2. The total interest will be dynamically calculated and displayed in real-time as the sliders are adjusted.\n",
    "\n",
    "#### **Expected Outcome:**  \n",
    "- As you adjust the sliders, the total interest for the loan will be calculated and displayed in real-time.\n",
    "- The total interest is shown based on the loan amount and interest rate you select.\n",
    "\n",
    "---\n"
   ]
  },
  {
   "cell_type": "code",
   "execution_count": 15,
   "metadata": {
    "colab": {
     "base_uri": "https://localhost:8080/",
     "height": 98,
     "referenced_widgets": [
      "34202c4f3e35414a8032149d3bce9426",
      "de5417d8891947ef918aaefb70a7e30b",
      "5df3276f4b4f4cb1ad6be5019928c5d2",
      "0228933b89e643d6bd9a2f8e38311b70",
      "b5995cee2bad4d96a45ccbaf2cd244e7",
      "5b0fae1a26f849699081f5d6cefa68ad",
      "7f1cb495bebb4b8f8d4a00e0f3266259",
      "8dddad39c4484fccbdd89a0727a3f431",
      "f1fe693990c34929b3d067db6ac81c56",
      "2794e3528dbe4badb11dcd50a95c28e6"
     ]
    },
    "id": "SJ-HE2kA-IUO",
    "outputId": "5b2326b1-69ee-45de-bfec-d090996502e7"
   },
   "outputs": [
    {
     "data": {
      "application/vnd.jupyter.widget-view+json": {
       "model_id": "e46283b9cc1b46d2bfa254abbff8975a",
       "version_major": 2,
       "version_minor": 0
      },
      "text/plain": [
       "interactive(children=(IntSlider(value=10000, description='Loan Amount:', max=500000, min=10000, step=1000, sty…"
      ]
     },
     "metadata": {},
     "output_type": "display_data"
    }
   ],
   "source": [
    "import ipywidgets as widgets \n",
    "from IPython.display import display\n",
    "\n",
    "loan_slider = widgets.IntSlider(\n",
    "    min=10000,\n",
    "    max=500000, \n",
    "    step=1000, \n",
    "    value=10000, \n",
    "    description=\"Loan Amount:\", \n",
    "    style = {\"description_width\" : \"initial\"}\n",
    "    ) \n",
    "\n",
    "rate_slider = widgets.FloatSlider(\n",
    "    min=0.01, \n",
    "    max=0.10, \n",
    "    step=0.005, \n",
    "    value=0.5, \n",
    "    description=\"Interest Rate:\", \n",
    "    style = {\"description_width\" : \"initial\"}\n",
    "    ) \n",
    "\n",
    "def calculate_interest(loan, rate):\n",
    "    total_interest = (loan * rate) / 100 \n",
    "    print(f\"Total Interest: PKR {total_interest:.2f}\") \n",
    "display(widgets.interactive(calculate_interest, loan=loan_slider, rate=rate_slider))"
   ]
  },
  {
   "cell_type": "markdown",
   "metadata": {
    "id": "JzFzCCsV-41I"
   },
   "source": [
    "### **Task 8 Description: Interactive Loan Details Viewer**\n",
    "\n",
    "#### **Objective:**  \n",
    "This task allows users to input their income, select the loan type, and adjust the interest rate using interactive widgets. The program will display the entered details, providing the user with a real-time summary of their loan preferences.\n",
    "\n",
    "#### **Instructions:**\n",
    "\n",
    "1. **Income Input**:  \n",
    "   - Use the **income input** field to enter your monthly or annual income (in PKR).  \n",
    "   - The default value is **50,000 PKR**.  \n",
    "   - The input must be a whole number (integer).\n",
    "\n",
    "2. **Loan Type Dropdown**:  \n",
    "   - Select the loan type from the dropdown menu.  \n",
    "   - Available loan types:  \n",
    "     - **Personal Loan**  \n",
    "     - **Home Loan**  \n",
    "     - **Car Loan**  \n",
    "   - The default value is set to **Personal Loan**.\n",
    "\n",
    "3. **Interest Rate Slider**:  \n",
    "   - Use the **interest rate slider** to set the interest rate for the loan.  \n",
    "   - The range is from **1%** to **15%**, with a step size of **0.5%**.  \n",
    "   - The default value is set to **5%**.\n",
    "\n",
    "4. **Displaying Loan Details**:  \n",
    "   - As the user provides inputs for income, loan type, and interest rate, the program will display the entered details.\n",
    "   - The displayed details will include:  \n",
    "     - **Income** (PKR)  \n",
    "     - **Loan Type**  \n",
    "     - **Interest Rate (%)**  \n",
    "\n",
    "#### **Steps**:\n",
    "1. Use the `ipywidgets.IntText` to enter the income.\n",
    "2. Use the `ipywidgets.Dropdown` to select the loan type.\n",
    "3. Use the `ipywidgets.FloatSlider` to select the interest rate.\n",
    "4. The program will dynamically display the entered details.\n",
    "\n",
    "#### **Expected Outcome:**  \n",
    "The program will display the income, loan type, and interest rate as the user interacts with the widgets. The details will be updated in real-time based on the user's inputs.\n"
   ]
  },
  {
   "cell_type": "code",
   "execution_count": null,
   "metadata": {
    "colab": {
     "base_uri": "https://localhost:8080/",
     "height": 165,
     "referenced_widgets": [
      "43e1507c62754dc3bb56ceb90a79d60d",
      "de832df2cdd54999a89da2e98cffbc80",
      "ca7dd05e89c14e67aef5cdd42761ffeb",
      "b6bd405ca80049698d7d0461f02cc743",
      "103a83542ae841c4ba11cbd0fd206e33",
      "9b9de6094e6c42acb489ba7e3e2df8aa",
      "9d9d6f9e30fb4f558569353ff55365b5",
      "29ae75e43af74c73b5992eabc4995d93",
      "66ee532fa6a34f77a22594a8a9ea7a41",
      "72ff1c69a7094b6781a6f2988986d2c2",
      "aec5fe71f6e243bea8e7bb947a5a3919",
      "ae71c326bd6d4607bbdc389e6ce688c8",
      "6c9742b8242d46139a62eb123942992a"
     ]
    },
    "id": "53YrTFO4_GFn",
    "outputId": "f46b1cd8-8448-427d-f695-cfa03583d9c0"
   },
   "outputs": [
    {
     "data": {
      "application/vnd.jupyter.widget-view+json": {
       "model_id": "43e1507c62754dc3bb56ceb90a79d60d",
       "version_major": 2,
       "version_minor": 0
      },
      "text/plain": [
       "interactive(children=(IntText(value=50000, description='Income(PKR):'), Dropdown(description='Loan Type:', opt…"
      ]
     },
     "metadata": {},
     "output_type": "display_data"
    }
   ],
   "source": [
    "import ipywidgets as widgets\n",
    "from IPython.display import display, clear_output\n",
    "\n",
    "income_input = widgets.IntText(\n",
    "    value=50000,\n",
    "    description=\"Income (PKR):\",\n",
    "    style={'description_width': 'initial'}\n",
    ")\n",
    "\n",
    "loan_dropdown = widgets.Dropdown(\n",
    "    options=[\"Personal Loan\", \"Home Loan\", \"Car Loan\"],\n",
    "    value=\"Personal Loan\",\n",
    "    description=\"Loan Type:\",\n",
    "    style={'description_width': 'initial'}\n",
    ")\n",
    "\n",
    "interest_rate_slider = widgets.FloatSlider(\n",
    "    value=5.0,\n",
    "    min=1.0,\n",
    "    max=15.0,\n",
    "    step=0.5,\n",
    "    description=\"Interest Rate (%):\",\n",
    "    style={'description_width': 'initial'}\n",
    ")\n",
    "\n",
    "output = widgets.Output()\n",
    "\n",
    "def display_loan_details(income, loan_type, interest_rate):\n",
    "    with output:\n",
    "        clear_output(wait=True)\n",
    "        print(f\"Income: {income} PKR\")\n",
    "        print(f\"Loan Type: {loan_type}\")\n",
    "        print(f\"Interest Rate: {interest_rate:.1f}%\")\n",
    "\n",
    "widgets.interactive(display_loan_details, \n",
    "                    income=income_input, \n",
    "                    loan_type=loan_dropdown, \n",
    "                    interest_rate=interest_rate_slider)\n",
    "\n",
    "display(income_input, loan_dropdown, interest_rate_slider, output)"
   ]
  },
  {
   "cell_type": "markdown",
   "metadata": {
    "id": "AaEZ6Q_o6HdG"
   },
   "source": [
    "### **Task 9: Interactive Investment Growth Plot**\n",
    "\n",
    "#### **Objective:**  \n",
    "This task allows you to visualize the growth of an investment over a 10-year period using interactive sliders for the **initial investment amount** and **annual growth rate**. The plot will dynamically update based on user inputs, providing a clear view of how the investment evolves over time.\n",
    "\n",
    "#### **Instructions:**  \n",
    "\n",
    "1. **Investment Amount Slider**:  \n",
    "   - Adjust the initial investment amount using the slider.  \n",
    "   - The range for the investment amount is **10,000 PKR** to **500,000 PKR**.  \n",
    "   - The default value is **100,000 PKR**.\n",
    "\n",
    "2. **Growth Rate Slider**:  \n",
    "   - Set the annual growth rate using the slider.  \n",
    "   - The range for the growth rate is **1%** to **15%**.  \n",
    "   - The default value is **5%**.\n",
    "\n",
    "3. **Investment Growth Calculation**:  \n",
    "   - The investment growth is calculated using the **compound interest formula**:  \n",
    "     \n",
    "  $A = P \\times (1 + \\frac{r}{100})^t$\n",
    "     where:\n",
    "     - **P** = Principal (initial investment)\n",
    "     - **r** = Annual growth rate (as a percentage)\n",
    "     - **t** = Time in years (from 1 to 10)\n",
    "\n",
    "4. **Visualization**:  \n",
    "   - The plot will display the growth of the investment over a 10-year period.  \n",
    "   - The **x-axis** represents the years (1 to 10).  \n",
    "   - The **y-axis** represents the investment value in **PKR**.\n",
    "\n",
    "#### **Expected Outcome:**  \n",
    "- A plot that shows how the investment grows over 10 years based on the chosen investment amount and growth rate.  \n",
    "- The plot will update in real-time as you adjust the sliders for both the investment amount and growth rate.\n",
    "\n",
    "**Hint: Use your Week 2 Theory Notes**"
   ]
  },
  {
   "cell_type": "code",
   "execution_count": null,
   "metadata": {
    "colab": {
     "base_uri": "https://localhost:8080/",
     "height": 474,
     "referenced_widgets": [
      "816b863d9a244098840b3352dd28ce94",
      "8165ef80febd41af9b2195ad2c8173f4",
      "341e5cc24eb74cf49a21e79e4e099c4c",
      "22b7fe554387402a9918fa1872edcb66",
      "a2fa75ad94c149b899934173056973ab",
      "fc5589a83eaa4ac792cd92889108bf14",
      "5ce1c0666c614ad08d5c4027b294926b",
      "a37bd6b139954c17b89326b94c5e990f",
      "2cf6a16a07244ff9aea1890469db61d5",
      "801afc8390374f47859e33dc444c2193"
     ]
    },
    "id": "i8B2Gkc25A2-",
    "outputId": "ad018390-bbc1-4d7a-a30b-6b017b48335f"
   },
   "outputs": [
    {
     "data": {
      "application/vnd.jupyter.widget-view+json": {
       "model_id": "816b863d9a244098840b3352dd28ce94",
       "version_major": 2,
       "version_minor": 0
      },
      "text/plain": [
       "interactive(children=(IntSlider(value=100000, description='Investment:', max=500000, min=10000, step=10000), F…"
      ]
     },
     "metadata": {},
     "output_type": "display_data"
    }
   ],
   "source": [
    "import numpy as np\n",
    "import matplotlib.pyplot as plt\n",
    "import ipywidgets as widgets\n",
    "from IPython.display import display, clear_output\n",
    "investment_slider = widgets.IntSlider(\n",
    "    value=100000,\n",
    "    min=10000,\n",
    "    max=500000,\n",
    "    step=10000,\n",
    "    description=\"Investment (PKR):\",\n",
    "    style={'description_width': 'initial'}\n",
    ")\n",
    "growth_rate_slider = widgets.FloatSlider(\n",
    "    value=5.0,\n",
    "    min=1.0,\n",
    "    max=15.0,\n",
    "    step=0.5,\n",
    "    description=\"Growth Rate (%):\",\n",
    "    style={'description_width': 'initial'}\n",
    ")\n",
    "output = widgets.Output()\n",
    "def plot_investment_growth(investment, growth_rate):\n",
    "    with output:\n",
    "        clear_output(wait=True)\n",
    "        years = np.arange(0, 10)\n",
    "        investment_values = investment * (1 + growth_rate / 100) ** years\n",
    "        plt.figure(figsize=(10, 5))\n",
    "        plt.plot(years, investment_values, marker='o', linestyle='-', color='r', label=\"Investment Growth\")\n",
    "        plt.xlabel(\"Years\")\n",
    "        plt.ylabel(\"Investment Value (PKR)\")\n",
    "        plt.title(\"Investment Growth Over 10 Years\")\n",
    "        plt.grid(True)\n",
    "        plt.legend()\n",
    "        plt.show()\n",
    "\n",
    "widgets.interactive(plot_investment_growth, \n",
    "                    investment=investment_slider, \n",
    "                    growth_rate=growth_rate_slider)\n",
    "\n",
    "display(investment_slider, growth_rate_slider, output)"
   ]
  }
 ],
 "metadata": {
  "colab": {
   "provenance": []
  },
  "kernelspec": {
   "display_name": "Python [conda env:base] *",
   "language": "python",
   "name": "conda-base-py"
  },
  "language_info": {
   "codemirror_mode": {
    "name": "ipython",
    "version": 3
   },
   "file_extension": ".py",
   "mimetype": "text/x-python",
   "name": "python",
   "nbconvert_exporter": "python",
   "pygments_lexer": "ipython3",
   "version": "3.12.7"
  },
  "widgets": {
   "application/vnd.jupyter.widget-state+json": {
    "0228933b89e643d6bd9a2f8e38311b70": {
     "model_module": "@jupyter-widgets/output",
     "model_module_version": "1.0.0",
     "model_name": "OutputModel",
     "state": {
      "_dom_classes": [],
      "_model_module": "@jupyter-widgets/output",
      "_model_module_version": "1.0.0",
      "_model_name": "OutputModel",
      "_view_count": null,
      "_view_module": "@jupyter-widgets/output",
      "_view_module_version": "1.0.0",
      "_view_name": "OutputView",
      "layout": "IPY_MODEL_2794e3528dbe4badb11dcd50a95c28e6",
      "msg_id": "",
      "outputs": [
       {
        "name": "stdout",
        "output_type": "stream",
        "text": [
         "Total Interest: PKR 23400.00\n"
        ]
       }
      ]
     }
    },
    "103a83542ae841c4ba11cbd0fd206e33": {
     "model_module": "@jupyter-widgets/output",
     "model_module_version": "1.0.0",
     "model_name": "OutputModel",
     "state": {
      "_dom_classes": [],
      "_model_module": "@jupyter-widgets/output",
      "_model_module_version": "1.0.0",
      "_model_name": "OutputModel",
      "_view_count": null,
      "_view_module": "@jupyter-widgets/output",
      "_view_module_version": "1.0.0",
      "_view_name": "OutputView",
      "layout": "IPY_MODEL_6c9742b8242d46139a62eb123942992a",
      "msg_id": "",
      "outputs": [
       {
        "name": "stdout",
        "output_type": "stream",
        "text": [
         "Income: PKR 50000\n",
         "Loan Type: Personal\n",
         "Interest Rate: 5.0%\n"
        ]
       }
      ]
     }
    },
    "22b7fe554387402a9918fa1872edcb66": {
     "model_module": "@jupyter-widgets/output",
     "model_module_version": "1.0.0",
     "model_name": "OutputModel",
     "state": {
      "_dom_classes": [],
      "_model_module": "@jupyter-widgets/output",
      "_model_module_version": "1.0.0",
      "_model_name": "OutputModel",
      "_view_count": null,
      "_view_module": "@jupyter-widgets/output",
      "_view_module_version": "1.0.0",
      "_view_name": "OutputView",
      "layout": "IPY_MODEL_801afc8390374f47859e33dc444c2193",
      "msg_id": "",
      "outputs": [
       {
        "data": {
         "image/png": "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\n",
         "text/plain": "<Figure size 600x400 with 1 Axes>"
        },
        "metadata": {},
        "output_type": "display_data"
       }
      ]
     }
    },
    "2794e3528dbe4badb11dcd50a95c28e6": {
     "model_module": "@jupyter-widgets/base",
     "model_module_version": "1.2.0",
     "model_name": "LayoutModel",
     "state": {
      "_model_module": "@jupyter-widgets/base",
      "_model_module_version": "1.2.0",
      "_model_name": "LayoutModel",
      "_view_count": null,
      "_view_module": "@jupyter-widgets/base",
      "_view_module_version": "1.2.0",
      "_view_name": "LayoutView",
      "align_content": null,
      "align_items": null,
      "align_self": null,
      "border": null,
      "bottom": null,
      "display": null,
      "flex": null,
      "flex_flow": null,
      "grid_area": null,
      "grid_auto_columns": null,
      "grid_auto_flow": null,
      "grid_auto_rows": null,
      "grid_column": null,
      "grid_gap": null,
      "grid_row": null,
      "grid_template_areas": null,
      "grid_template_columns": null,
      "grid_template_rows": null,
      "height": null,
      "justify_content": null,
      "justify_items": null,
      "left": null,
      "margin": null,
      "max_height": null,
      "max_width": null,
      "min_height": null,
      "min_width": null,
      "object_fit": null,
      "object_position": null,
      "order": null,
      "overflow": null,
      "overflow_x": null,
      "overflow_y": null,
      "padding": null,
      "right": null,
      "top": null,
      "visibility": null,
      "width": null
     }
    },
    "29ae75e43af74c73b5992eabc4995d93": {
     "model_module": "@jupyter-widgets/controls",
     "model_module_version": "1.5.0",
     "model_name": "DescriptionStyleModel",
     "state": {
      "_model_module": "@jupyter-widgets/controls",
      "_model_module_version": "1.5.0",
      "_model_name": "DescriptionStyleModel",
      "_view_count": null,
      "_view_module": "@jupyter-widgets/base",
      "_view_module_version": "1.2.0",
      "_view_name": "StyleView",
      "description_width": ""
     }
    },
    "2cf6a16a07244ff9aea1890469db61d5": {
     "model_module": "@jupyter-widgets/controls",
     "model_module_version": "1.5.0",
     "model_name": "SliderStyleModel",
     "state": {
      "_model_module": "@jupyter-widgets/controls",
      "_model_module_version": "1.5.0",
      "_model_name": "SliderStyleModel",
      "_view_count": null,
      "_view_module": "@jupyter-widgets/base",
      "_view_module_version": "1.2.0",
      "_view_name": "StyleView",
      "description_width": "",
      "handle_color": null
     }
    },
    "341e5cc24eb74cf49a21e79e4e099c4c": {
     "model_module": "@jupyter-widgets/controls",
     "model_module_version": "1.5.0",
     "model_name": "FloatSliderModel",
     "state": {
      "_dom_classes": [],
      "_model_module": "@jupyter-widgets/controls",
      "_model_module_version": "1.5.0",
      "_model_name": "FloatSliderModel",
      "_view_count": null,
      "_view_module": "@jupyter-widgets/controls",
      "_view_module_version": "1.5.0",
      "_view_name": "FloatSliderView",
      "continuous_update": true,
      "description": "Growth Rate (%):",
      "description_tooltip": null,
      "disabled": false,
      "layout": "IPY_MODEL_a37bd6b139954c17b89326b94c5e990f",
      "max": 15,
      "min": 1,
      "orientation": "horizontal",
      "readout": true,
      "readout_format": ".2f",
      "step": 0.5,
      "style": "IPY_MODEL_2cf6a16a07244ff9aea1890469db61d5",
      "value": 11.5
     }
    },
    "34202c4f3e35414a8032149d3bce9426": {
     "model_module": "@jupyter-widgets/controls",
     "model_module_version": "1.5.0",
     "model_name": "VBoxModel",
     "state": {
      "_dom_classes": [
       "widget-interact"
      ],
      "_model_module": "@jupyter-widgets/controls",
      "_model_module_version": "1.5.0",
      "_model_name": "VBoxModel",
      "_view_count": null,
      "_view_module": "@jupyter-widgets/controls",
      "_view_module_version": "1.5.0",
      "_view_name": "VBoxView",
      "box_style": "",
      "children": [
       "IPY_MODEL_de5417d8891947ef918aaefb70a7e30b",
       "IPY_MODEL_5df3276f4b4f4cb1ad6be5019928c5d2",
       "IPY_MODEL_0228933b89e643d6bd9a2f8e38311b70"
      ],
      "layout": "IPY_MODEL_b5995cee2bad4d96a45ccbaf2cd244e7"
     }
    },
    "43e1507c62754dc3bb56ceb90a79d60d": {
     "model_module": "@jupyter-widgets/controls",
     "model_module_version": "1.5.0",
     "model_name": "VBoxModel",
     "state": {
      "_dom_classes": [
       "widget-interact"
      ],
      "_model_module": "@jupyter-widgets/controls",
      "_model_module_version": "1.5.0",
      "_model_name": "VBoxModel",
      "_view_count": null,
      "_view_module": "@jupyter-widgets/controls",
      "_view_module_version": "1.5.0",
      "_view_name": "VBoxView",
      "box_style": "",
      "children": [
       "IPY_MODEL_de832df2cdd54999a89da2e98cffbc80",
       "IPY_MODEL_ca7dd05e89c14e67aef5cdd42761ffeb",
       "IPY_MODEL_b6bd405ca80049698d7d0461f02cc743",
       "IPY_MODEL_103a83542ae841c4ba11cbd0fd206e33"
      ],
      "layout": "IPY_MODEL_9b9de6094e6c42acb489ba7e3e2df8aa"
     }
    },
    "5b0fae1a26f849699081f5d6cefa68ad": {
     "model_module": "@jupyter-widgets/base",
     "model_module_version": "1.2.0",
     "model_name": "LayoutModel",
     "state": {
      "_model_module": "@jupyter-widgets/base",
      "_model_module_version": "1.2.0",
      "_model_name": "LayoutModel",
      "_view_count": null,
      "_view_module": "@jupyter-widgets/base",
      "_view_module_version": "1.2.0",
      "_view_name": "LayoutView",
      "align_content": null,
      "align_items": null,
      "align_self": null,
      "border": null,
      "bottom": null,
      "display": null,
      "flex": null,
      "flex_flow": null,
      "grid_area": null,
      "grid_auto_columns": null,
      "grid_auto_flow": null,
      "grid_auto_rows": null,
      "grid_column": null,
      "grid_gap": null,
      "grid_row": null,
      "grid_template_areas": null,
      "grid_template_columns": null,
      "grid_template_rows": null,
      "height": null,
      "justify_content": null,
      "justify_items": null,
      "left": null,
      "margin": null,
      "max_height": null,
      "max_width": null,
      "min_height": null,
      "min_width": null,
      "object_fit": null,
      "object_position": null,
      "order": null,
      "overflow": null,
      "overflow_x": null,
      "overflow_y": null,
      "padding": null,
      "right": null,
      "top": null,
      "visibility": null,
      "width": null
     }
    },
    "5ce1c0666c614ad08d5c4027b294926b": {
     "model_module": "@jupyter-widgets/controls",
     "model_module_version": "1.5.0",
     "model_name": "SliderStyleModel",
     "state": {
      "_model_module": "@jupyter-widgets/controls",
      "_model_module_version": "1.5.0",
      "_model_name": "SliderStyleModel",
      "_view_count": null,
      "_view_module": "@jupyter-widgets/base",
      "_view_module_version": "1.2.0",
      "_view_name": "StyleView",
      "description_width": "",
      "handle_color": null
     }
    },
    "5df3276f4b4f4cb1ad6be5019928c5d2": {
     "model_module": "@jupyter-widgets/controls",
     "model_module_version": "1.5.0",
     "model_name": "FloatSliderModel",
     "state": {
      "_dom_classes": [],
      "_model_module": "@jupyter-widgets/controls",
      "_model_module_version": "1.5.0",
      "_model_name": "FloatSliderModel",
      "_view_count": null,
      "_view_module": "@jupyter-widgets/controls",
      "_view_module_version": "1.5.0",
      "_view_name": "FloatSliderView",
      "continuous_update": true,
      "description": "Interest Rate (%):",
      "description_tooltip": null,
      "disabled": false,
      "layout": "IPY_MODEL_8dddad39c4484fccbdd89a0727a3f431",
      "max": 10,
      "min": 1,
      "orientation": "horizontal",
      "readout": true,
      "readout_format": ".2f",
      "step": 0.5,
      "style": "IPY_MODEL_f1fe693990c34929b3d067db6ac81c56",
      "value": 6
     }
    },
    "66ee532fa6a34f77a22594a8a9ea7a41": {
     "model_module": "@jupyter-widgets/base",
     "model_module_version": "1.2.0",
     "model_name": "LayoutModel",
     "state": {
      "_model_module": "@jupyter-widgets/base",
      "_model_module_version": "1.2.0",
      "_model_name": "LayoutModel",
      "_view_count": null,
      "_view_module": "@jupyter-widgets/base",
      "_view_module_version": "1.2.0",
      "_view_name": "LayoutView",
      "align_content": null,
      "align_items": null,
      "align_self": null,
      "border": null,
      "bottom": null,
      "display": null,
      "flex": null,
      "flex_flow": null,
      "grid_area": null,
      "grid_auto_columns": null,
      "grid_auto_flow": null,
      "grid_auto_rows": null,
      "grid_column": null,
      "grid_gap": null,
      "grid_row": null,
      "grid_template_areas": null,
      "grid_template_columns": null,
      "grid_template_rows": null,
      "height": null,
      "justify_content": null,
      "justify_items": null,
      "left": null,
      "margin": null,
      "max_height": null,
      "max_width": null,
      "min_height": null,
      "min_width": null,
      "object_fit": null,
      "object_position": null,
      "order": null,
      "overflow": null,
      "overflow_x": null,
      "overflow_y": null,
      "padding": null,
      "right": null,
      "top": null,
      "visibility": null,
      "width": null
     }
    },
    "6c9742b8242d46139a62eb123942992a": {
     "model_module": "@jupyter-widgets/base",
     "model_module_version": "1.2.0",
     "model_name": "LayoutModel",
     "state": {
      "_model_module": "@jupyter-widgets/base",
      "_model_module_version": "1.2.0",
      "_model_name": "LayoutModel",
      "_view_count": null,
      "_view_module": "@jupyter-widgets/base",
      "_view_module_version": "1.2.0",
      "_view_name": "LayoutView",
      "align_content": null,
      "align_items": null,
      "align_self": null,
      "border": null,
      "bottom": null,
      "display": null,
      "flex": null,
      "flex_flow": null,
      "grid_area": null,
      "grid_auto_columns": null,
      "grid_auto_flow": null,
      "grid_auto_rows": null,
      "grid_column": null,
      "grid_gap": null,
      "grid_row": null,
      "grid_template_areas": null,
      "grid_template_columns": null,
      "grid_template_rows": null,
      "height": null,
      "justify_content": null,
      "justify_items": null,
      "left": null,
      "margin": null,
      "max_height": null,
      "max_width": null,
      "min_height": null,
      "min_width": null,
      "object_fit": null,
      "object_position": null,
      "order": null,
      "overflow": null,
      "overflow_x": null,
      "overflow_y": null,
      "padding": null,
      "right": null,
      "top": null,
      "visibility": null,
      "width": null
     }
    },
    "72ff1c69a7094b6781a6f2988986d2c2": {
     "model_module": "@jupyter-widgets/controls",
     "model_module_version": "1.5.0",
     "model_name": "DescriptionStyleModel",
     "state": {
      "_model_module": "@jupyter-widgets/controls",
      "_model_module_version": "1.5.0",
      "_model_name": "DescriptionStyleModel",
      "_view_count": null,
      "_view_module": "@jupyter-widgets/base",
      "_view_module_version": "1.2.0",
      "_view_name": "StyleView",
      "description_width": ""
     }
    },
    "7f1cb495bebb4b8f8d4a00e0f3266259": {
     "model_module": "@jupyter-widgets/controls",
     "model_module_version": "1.5.0",
     "model_name": "SliderStyleModel",
     "state": {
      "_model_module": "@jupyter-widgets/controls",
      "_model_module_version": "1.5.0",
      "_model_name": "SliderStyleModel",
      "_view_count": null,
      "_view_module": "@jupyter-widgets/base",
      "_view_module_version": "1.2.0",
      "_view_name": "StyleView",
      "description_width": "",
      "handle_color": null
     }
    },
    "801afc8390374f47859e33dc444c2193": {
     "model_module": "@jupyter-widgets/base",
     "model_module_version": "1.2.0",
     "model_name": "LayoutModel",
     "state": {
      "_model_module": "@jupyter-widgets/base",
      "_model_module_version": "1.2.0",
      "_model_name": "LayoutModel",
      "_view_count": null,
      "_view_module": "@jupyter-widgets/base",
      "_view_module_version": "1.2.0",
      "_view_name": "LayoutView",
      "align_content": null,
      "align_items": null,
      "align_self": null,
      "border": null,
      "bottom": null,
      "display": null,
      "flex": null,
      "flex_flow": null,
      "grid_area": null,
      "grid_auto_columns": null,
      "grid_auto_flow": null,
      "grid_auto_rows": null,
      "grid_column": null,
      "grid_gap": null,
      "grid_row": null,
      "grid_template_areas": null,
      "grid_template_columns": null,
      "grid_template_rows": null,
      "height": null,
      "justify_content": null,
      "justify_items": null,
      "left": null,
      "margin": null,
      "max_height": null,
      "max_width": null,
      "min_height": null,
      "min_width": null,
      "object_fit": null,
      "object_position": null,
      "order": null,
      "overflow": null,
      "overflow_x": null,
      "overflow_y": null,
      "padding": null,
      "right": null,
      "top": null,
      "visibility": null,
      "width": null
     }
    },
    "8165ef80febd41af9b2195ad2c8173f4": {
     "model_module": "@jupyter-widgets/controls",
     "model_module_version": "1.5.0",
     "model_name": "IntSliderModel",
     "state": {
      "_dom_classes": [],
      "_model_module": "@jupyter-widgets/controls",
      "_model_module_version": "1.5.0",
      "_model_name": "IntSliderModel",
      "_view_count": null,
      "_view_module": "@jupyter-widgets/controls",
      "_view_module_version": "1.5.0",
      "_view_name": "IntSliderView",
      "continuous_update": true,
      "description": "Investment:",
      "description_tooltip": null,
      "disabled": false,
      "layout": "IPY_MODEL_fc5589a83eaa4ac792cd92889108bf14",
      "max": 500000,
      "min": 10000,
      "orientation": "horizontal",
      "readout": true,
      "readout_format": "d",
      "step": 10000,
      "style": "IPY_MODEL_5ce1c0666c614ad08d5c4027b294926b",
      "value": 370000
     }
    },
    "816b863d9a244098840b3352dd28ce94": {
     "model_module": "@jupyter-widgets/controls",
     "model_module_version": "1.5.0",
     "model_name": "VBoxModel",
     "state": {
      "_dom_classes": [
       "widget-interact"
      ],
      "_model_module": "@jupyter-widgets/controls",
      "_model_module_version": "1.5.0",
      "_model_name": "VBoxModel",
      "_view_count": null,
      "_view_module": "@jupyter-widgets/controls",
      "_view_module_version": "1.5.0",
      "_view_name": "VBoxView",
      "box_style": "",
      "children": [
       "IPY_MODEL_8165ef80febd41af9b2195ad2c8173f4",
       "IPY_MODEL_341e5cc24eb74cf49a21e79e4e099c4c",
       "IPY_MODEL_22b7fe554387402a9918fa1872edcb66"
      ],
      "layout": "IPY_MODEL_a2fa75ad94c149b899934173056973ab"
     }
    },
    "8dddad39c4484fccbdd89a0727a3f431": {
     "model_module": "@jupyter-widgets/base",
     "model_module_version": "1.2.0",
     "model_name": "LayoutModel",
     "state": {
      "_model_module": "@jupyter-widgets/base",
      "_model_module_version": "1.2.0",
      "_model_name": "LayoutModel",
      "_view_count": null,
      "_view_module": "@jupyter-widgets/base",
      "_view_module_version": "1.2.0",
      "_view_name": "LayoutView",
      "align_content": null,
      "align_items": null,
      "align_self": null,
      "border": null,
      "bottom": null,
      "display": null,
      "flex": null,
      "flex_flow": null,
      "grid_area": null,
      "grid_auto_columns": null,
      "grid_auto_flow": null,
      "grid_auto_rows": null,
      "grid_column": null,
      "grid_gap": null,
      "grid_row": null,
      "grid_template_areas": null,
      "grid_template_columns": null,
      "grid_template_rows": null,
      "height": null,
      "justify_content": null,
      "justify_items": null,
      "left": null,
      "margin": null,
      "max_height": null,
      "max_width": null,
      "min_height": null,
      "min_width": null,
      "object_fit": null,
      "object_position": null,
      "order": null,
      "overflow": null,
      "overflow_x": null,
      "overflow_y": null,
      "padding": null,
      "right": null,
      "top": null,
      "visibility": null,
      "width": null
     }
    },
    "9b9de6094e6c42acb489ba7e3e2df8aa": {
     "model_module": "@jupyter-widgets/base",
     "model_module_version": "1.2.0",
     "model_name": "LayoutModel",
     "state": {
      "_model_module": "@jupyter-widgets/base",
      "_model_module_version": "1.2.0",
      "_model_name": "LayoutModel",
      "_view_count": null,
      "_view_module": "@jupyter-widgets/base",
      "_view_module_version": "1.2.0",
      "_view_name": "LayoutView",
      "align_content": null,
      "align_items": null,
      "align_self": null,
      "border": null,
      "bottom": null,
      "display": null,
      "flex": null,
      "flex_flow": null,
      "grid_area": null,
      "grid_auto_columns": null,
      "grid_auto_flow": null,
      "grid_auto_rows": null,
      "grid_column": null,
      "grid_gap": null,
      "grid_row": null,
      "grid_template_areas": null,
      "grid_template_columns": null,
      "grid_template_rows": null,
      "height": null,
      "justify_content": null,
      "justify_items": null,
      "left": null,
      "margin": null,
      "max_height": null,
      "max_width": null,
      "min_height": null,
      "min_width": null,
      "object_fit": null,
      "object_position": null,
      "order": null,
      "overflow": null,
      "overflow_x": null,
      "overflow_y": null,
      "padding": null,
      "right": null,
      "top": null,
      "visibility": null,
      "width": null
     }
    },
    "9d9d6f9e30fb4f558569353ff55365b5": {
     "model_module": "@jupyter-widgets/base",
     "model_module_version": "1.2.0",
     "model_name": "LayoutModel",
     "state": {
      "_model_module": "@jupyter-widgets/base",
      "_model_module_version": "1.2.0",
      "_model_name": "LayoutModel",
      "_view_count": null,
      "_view_module": "@jupyter-widgets/base",
      "_view_module_version": "1.2.0",
      "_view_name": "LayoutView",
      "align_content": null,
      "align_items": null,
      "align_self": null,
      "border": null,
      "bottom": null,
      "display": null,
      "flex": null,
      "flex_flow": null,
      "grid_area": null,
      "grid_auto_columns": null,
      "grid_auto_flow": null,
      "grid_auto_rows": null,
      "grid_column": null,
      "grid_gap": null,
      "grid_row": null,
      "grid_template_areas": null,
      "grid_template_columns": null,
      "grid_template_rows": null,
      "height": null,
      "justify_content": null,
      "justify_items": null,
      "left": null,
      "margin": null,
      "max_height": null,
      "max_width": null,
      "min_height": null,
      "min_width": null,
      "object_fit": null,
      "object_position": null,
      "order": null,
      "overflow": null,
      "overflow_x": null,
      "overflow_y": null,
      "padding": null,
      "right": null,
      "top": null,
      "visibility": null,
      "width": null
     }
    },
    "a2fa75ad94c149b899934173056973ab": {
     "model_module": "@jupyter-widgets/base",
     "model_module_version": "1.2.0",
     "model_name": "LayoutModel",
     "state": {
      "_model_module": "@jupyter-widgets/base",
      "_model_module_version": "1.2.0",
      "_model_name": "LayoutModel",
      "_view_count": null,
      "_view_module": "@jupyter-widgets/base",
      "_view_module_version": "1.2.0",
      "_view_name": "LayoutView",
      "align_content": null,
      "align_items": null,
      "align_self": null,
      "border": null,
      "bottom": null,
      "display": null,
      "flex": null,
      "flex_flow": null,
      "grid_area": null,
      "grid_auto_columns": null,
      "grid_auto_flow": null,
      "grid_auto_rows": null,
      "grid_column": null,
      "grid_gap": null,
      "grid_row": null,
      "grid_template_areas": null,
      "grid_template_columns": null,
      "grid_template_rows": null,
      "height": null,
      "justify_content": null,
      "justify_items": null,
      "left": null,
      "margin": null,
      "max_height": null,
      "max_width": null,
      "min_height": null,
      "min_width": null,
      "object_fit": null,
      "object_position": null,
      "order": null,
      "overflow": null,
      "overflow_x": null,
      "overflow_y": null,
      "padding": null,
      "right": null,
      "top": null,
      "visibility": null,
      "width": null
     }
    },
    "a37bd6b139954c17b89326b94c5e990f": {
     "model_module": "@jupyter-widgets/base",
     "model_module_version": "1.2.0",
     "model_name": "LayoutModel",
     "state": {
      "_model_module": "@jupyter-widgets/base",
      "_model_module_version": "1.2.0",
      "_model_name": "LayoutModel",
      "_view_count": null,
      "_view_module": "@jupyter-widgets/base",
      "_view_module_version": "1.2.0",
      "_view_name": "LayoutView",
      "align_content": null,
      "align_items": null,
      "align_self": null,
      "border": null,
      "bottom": null,
      "display": null,
      "flex": null,
      "flex_flow": null,
      "grid_area": null,
      "grid_auto_columns": null,
      "grid_auto_flow": null,
      "grid_auto_rows": null,
      "grid_column": null,
      "grid_gap": null,
      "grid_row": null,
      "grid_template_areas": null,
      "grid_template_columns": null,
      "grid_template_rows": null,
      "height": null,
      "justify_content": null,
      "justify_items": null,
      "left": null,
      "margin": null,
      "max_height": null,
      "max_width": null,
      "min_height": null,
      "min_width": null,
      "object_fit": null,
      "object_position": null,
      "order": null,
      "overflow": null,
      "overflow_x": null,
      "overflow_y": null,
      "padding": null,
      "right": null,
      "top": null,
      "visibility": null,
      "width": null
     }
    },
    "ae71c326bd6d4607bbdc389e6ce688c8": {
     "model_module": "@jupyter-widgets/controls",
     "model_module_version": "1.5.0",
     "model_name": "SliderStyleModel",
     "state": {
      "_model_module": "@jupyter-widgets/controls",
      "_model_module_version": "1.5.0",
      "_model_name": "SliderStyleModel",
      "_view_count": null,
      "_view_module": "@jupyter-widgets/base",
      "_view_module_version": "1.2.0",
      "_view_name": "StyleView",
      "description_width": "",
      "handle_color": null
     }
    },
    "aec5fe71f6e243bea8e7bb947a5a3919": {
     "model_module": "@jupyter-widgets/base",
     "model_module_version": "1.2.0",
     "model_name": "LayoutModel",
     "state": {
      "_model_module": "@jupyter-widgets/base",
      "_model_module_version": "1.2.0",
      "_model_name": "LayoutModel",
      "_view_count": null,
      "_view_module": "@jupyter-widgets/base",
      "_view_module_version": "1.2.0",
      "_view_name": "LayoutView",
      "align_content": null,
      "align_items": null,
      "align_self": null,
      "border": null,
      "bottom": null,
      "display": null,
      "flex": null,
      "flex_flow": null,
      "grid_area": null,
      "grid_auto_columns": null,
      "grid_auto_flow": null,
      "grid_auto_rows": null,
      "grid_column": null,
      "grid_gap": null,
      "grid_row": null,
      "grid_template_areas": null,
      "grid_template_columns": null,
      "grid_template_rows": null,
      "height": null,
      "justify_content": null,
      "justify_items": null,
      "left": null,
      "margin": null,
      "max_height": null,
      "max_width": null,
      "min_height": null,
      "min_width": null,
      "object_fit": null,
      "object_position": null,
      "order": null,
      "overflow": null,
      "overflow_x": null,
      "overflow_y": null,
      "padding": null,
      "right": null,
      "top": null,
      "visibility": null,
      "width": null
     }
    },
    "b5995cee2bad4d96a45ccbaf2cd244e7": {
     "model_module": "@jupyter-widgets/base",
     "model_module_version": "1.2.0",
     "model_name": "LayoutModel",
     "state": {
      "_model_module": "@jupyter-widgets/base",
      "_model_module_version": "1.2.0",
      "_model_name": "LayoutModel",
      "_view_count": null,
      "_view_module": "@jupyter-widgets/base",
      "_view_module_version": "1.2.0",
      "_view_name": "LayoutView",
      "align_content": null,
      "align_items": null,
      "align_self": null,
      "border": null,
      "bottom": null,
      "display": null,
      "flex": null,
      "flex_flow": null,
      "grid_area": null,
      "grid_auto_columns": null,
      "grid_auto_flow": null,
      "grid_auto_rows": null,
      "grid_column": null,
      "grid_gap": null,
      "grid_row": null,
      "grid_template_areas": null,
      "grid_template_columns": null,
      "grid_template_rows": null,
      "height": null,
      "justify_content": null,
      "justify_items": null,
      "left": null,
      "margin": null,
      "max_height": null,
      "max_width": null,
      "min_height": null,
      "min_width": null,
      "object_fit": null,
      "object_position": null,
      "order": null,
      "overflow": null,
      "overflow_x": null,
      "overflow_y": null,
      "padding": null,
      "right": null,
      "top": null,
      "visibility": null,
      "width": null
     }
    },
    "b6bd405ca80049698d7d0461f02cc743": {
     "model_module": "@jupyter-widgets/controls",
     "model_module_version": "1.5.0",
     "model_name": "FloatSliderModel",
     "state": {
      "_dom_classes": [],
      "_model_module": "@jupyter-widgets/controls",
      "_model_module_version": "1.5.0",
      "_model_name": "FloatSliderModel",
      "_view_count": null,
      "_view_module": "@jupyter-widgets/controls",
      "_view_module_version": "1.5.0",
      "_view_name": "FloatSliderView",
      "continuous_update": true,
      "description": "Interest Rate (%):",
      "description_tooltip": null,
      "disabled": false,
      "layout": "IPY_MODEL_aec5fe71f6e243bea8e7bb947a5a3919",
      "max": 15,
      "min": 1,
      "orientation": "horizontal",
      "readout": true,
      "readout_format": ".2f",
      "step": 0.5,
      "style": "IPY_MODEL_ae71c326bd6d4607bbdc389e6ce688c8",
      "value": 5
     }
    },
    "ca7dd05e89c14e67aef5cdd42761ffeb": {
     "model_module": "@jupyter-widgets/controls",
     "model_module_version": "1.5.0",
     "model_name": "DropdownModel",
     "state": {
      "_dom_classes": [],
      "_model_module": "@jupyter-widgets/controls",
      "_model_module_version": "1.5.0",
      "_model_name": "DropdownModel",
      "_options_labels": [
       "Personal",
       "Home",
       "Car"
      ],
      "_view_count": null,
      "_view_module": "@jupyter-widgets/controls",
      "_view_module_version": "1.5.0",
      "_view_name": "DropdownView",
      "description": "Loan Type:",
      "description_tooltip": null,
      "disabled": false,
      "index": 0,
      "layout": "IPY_MODEL_66ee532fa6a34f77a22594a8a9ea7a41",
      "style": "IPY_MODEL_72ff1c69a7094b6781a6f2988986d2c2"
     }
    },
    "de5417d8891947ef918aaefb70a7e30b": {
     "model_module": "@jupyter-widgets/controls",
     "model_module_version": "1.5.0",
     "model_name": "IntSliderModel",
     "state": {
      "_dom_classes": [],
      "_model_module": "@jupyter-widgets/controls",
      "_model_module_version": "1.5.0",
      "_model_name": "IntSliderModel",
      "_view_count": null,
      "_view_module": "@jupyter-widgets/controls",
      "_view_module_version": "1.5.0",
      "_view_name": "IntSliderView",
      "continuous_update": true,
      "description": "Loan:",
      "description_tooltip": null,
      "disabled": false,
      "layout": "IPY_MODEL_5b0fae1a26f849699081f5d6cefa68ad",
      "max": 500000,
      "min": 10000,
      "orientation": "horizontal",
      "readout": true,
      "readout_format": "d",
      "step": 10000,
      "style": "IPY_MODEL_7f1cb495bebb4b8f8d4a00e0f3266259",
      "value": 390000
     }
    },
    "de832df2cdd54999a89da2e98cffbc80": {
     "model_module": "@jupyter-widgets/controls",
     "model_module_version": "1.5.0",
     "model_name": "IntTextModel",
     "state": {
      "_dom_classes": [],
      "_model_module": "@jupyter-widgets/controls",
      "_model_module_version": "1.5.0",
      "_model_name": "IntTextModel",
      "_view_count": null,
      "_view_module": "@jupyter-widgets/controls",
      "_view_module_version": "1.5.0",
      "_view_name": "IntTextView",
      "continuous_update": false,
      "description": "Income(PKR):",
      "description_tooltip": null,
      "disabled": false,
      "layout": "IPY_MODEL_9d9d6f9e30fb4f558569353ff55365b5",
      "step": 1,
      "style": "IPY_MODEL_29ae75e43af74c73b5992eabc4995d93",
      "value": 50000
     }
    },
    "f1fe693990c34929b3d067db6ac81c56": {
     "model_module": "@jupyter-widgets/controls",
     "model_module_version": "1.5.0",
     "model_name": "SliderStyleModel",
     "state": {
      "_model_module": "@jupyter-widgets/controls",
      "_model_module_version": "1.5.0",
      "_model_name": "SliderStyleModel",
      "_view_count": null,
      "_view_module": "@jupyter-widgets/base",
      "_view_module_version": "1.2.0",
      "_view_name": "StyleView",
      "description_width": "",
      "handle_color": null
     }
    },
    "fc5589a83eaa4ac792cd92889108bf14": {
     "model_module": "@jupyter-widgets/base",
     "model_module_version": "1.2.0",
     "model_name": "LayoutModel",
     "state": {
      "_model_module": "@jupyter-widgets/base",
      "_model_module_version": "1.2.0",
      "_model_name": "LayoutModel",
      "_view_count": null,
      "_view_module": "@jupyter-widgets/base",
      "_view_module_version": "1.2.0",
      "_view_name": "LayoutView",
      "align_content": null,
      "align_items": null,
      "align_self": null,
      "border": null,
      "bottom": null,
      "display": null,
      "flex": null,
      "flex_flow": null,
      "grid_area": null,
      "grid_auto_columns": null,
      "grid_auto_flow": null,
      "grid_auto_rows": null,
      "grid_column": null,
      "grid_gap": null,
      "grid_row": null,
      "grid_template_areas": null,
      "grid_template_columns": null,
      "grid_template_rows": null,
      "height": null,
      "justify_content": null,
      "justify_items": null,
      "left": null,
      "margin": null,
      "max_height": null,
      "max_width": null,
      "min_height": null,
      "min_width": null,
      "object_fit": null,
      "object_position": null,
      "order": null,
      "overflow": null,
      "overflow_x": null,
      "overflow_y": null,
      "padding": null,
      "right": null,
      "top": null,
      "visibility": null,
      "width": null
     }
    }
   }
  }
 },
 "nbformat": 4,
 "nbformat_minor": 4
}
