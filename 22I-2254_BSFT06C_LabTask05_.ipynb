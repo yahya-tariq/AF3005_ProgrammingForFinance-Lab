{
 "cells": [
  {
   "cell_type": "markdown",
   "metadata": {
    "id": "NU_lHVxsiyM_"
   },
   "source": [
    "# **Programming for Finance - Week 5 LAB**\n",
    "\n",
    "## **🔹 Overview**\n",
    "In this lab, you will learn:\n",
    "- How to read, write, and append **text files** in Python.\n",
    "- How to read and write **CSV files** using Python's `csv` module.\n",
    "- How to use `pandas` for **basic CSV processing**.\n",
    "- Financial applications of file handling."
   ]
  },
  {
   "cell_type": "code",
   "execution_count": null,
   "metadata": {
    "id": "B127k99JmeVK"
   },
   "outputs": [],
   "source": [
    "#Enter your Name, roll No. and Section here!!!\n",
    "#Roll# 22i-2254\n",
    "#Name: Syed Yahya Tariq\n",
    "#Section: FT-06C"
   ]
  },
  {
   "cell_type": "markdown",
   "metadata": {
    "id": "wSojEJcSizuj"
   },
   "source": [
    "### **📝 Task 1: Reading a Financial Transaction File**\n",
    "#### **🔹 Instructions**\n",
    "1. **Create a text file (`transactions.txt`)** containing the following sample financial transactions:\n",
    "   ```\n",
    "   Deposit: PKR 10,000\n",
    "   Withdrawal: PKR 5,000\n",
    "   Balance: PKR 50,000\n",
    "   ```\n",
    "2. **Write a Python program** to read and display the file content.\n",
    "3. **Ensure the file closes properly** to avoid memory leaks.\n"
   ]
  },
  {
   "cell_type": "code",
   "execution_count": 29,
   "metadata": {
    "colab": {
     "base_uri": "https://localhost:8080/"
    },
    "id": "DnuEtuF_ixIe",
    "outputId": "79a746bc-6637-4170-9f34-20c2437807b4"
   },
   "outputs": [
    {
     "name": "stdout",
     "output_type": "stream",
     "text": [
      "Deposit: PKR 10,000\n",
      "Withdrawal: PKR 5,000\n",
      "Balance: PKR 50,000\n",
      "\n"
     ]
    }
   ],
   "source": [
    "file = open(\"transactions.txt\",\"w\")\n",
    "file.write(\"Deposit: PKR 10,000\\n\")\n",
    "file.write(\"Withdrawal: PKR 5,000\\n\")\n",
    "file.write(\"Balance: PKR 50,000\\n\")\n",
    "file.close()\n",
    "  \n",
    "file = open(\"transactions.txt\", \"r\")  \n",
    "print(file.read()) \n",
    "file.close()"
   ]
  },
  {
   "cell_type": "code",
   "execution_count": null,
   "metadata": {
    "id": "RaDy1SYBi8v9"
   },
   "outputs": [],
   "source": []
  },
  {
   "cell_type": "markdown",
   "metadata": {
    "id": "9sO4bZMwi9Li"
   },
   "source": [
    "### **📝 Task 2: Writing New Transactions to a File**\n",
    "#### **🔹 Instructions**\n",
    "1. Modify the code to create a new file (`new_transactions.txt`).\n",
    "2. Write the following financial transactions to the file:\n",
    "   ```\n",
    "   Deposit: PKR 15,000\n",
    "   Withdrawal: PKR 3,000\n",
    "   Balance: PKR 62,000\n",
    "   ```\n",
    "3. Ensure each transaction is written on a **new line**.\n",
    "\n",
    "\n"
   ]
  },
  {
   "cell_type": "code",
   "execution_count": 17,
   "metadata": {
    "colab": {
     "base_uri": "https://localhost:8080/"
    },
    "id": "AM6v9HHSjEP6",
    "outputId": "86e6b08b-9b7d-422a-d5fb-9c27a77bafd8"
   },
   "outputs": [
    {
     "name": "stdout",
     "output_type": "stream",
     "text": [
      "Deposit: PKR 15,000\n",
      "Withdrawal: PKR 3,000\n",
      "Balance: PKR 62,000\n"
     ]
    }
   ],
   "source": [
    "with open(\"new_transactions.txt\",\"w\") as file:\n",
    "    file.write(\"Deposit: PKR 15,000\\n\")\n",
    "    file.write(\"Withdrawal: PKR 3,000\\n\")\n",
    "    file.write(\"Balance: PKR 62,000\")\n",
    "\n",
    "with open(\"new_transactions.txt\",\"r\") as file:\n",
    "    content = file.read()\n",
    "    print(content)"
   ]
  },
  {
   "cell_type": "markdown",
   "metadata": {
    "id": "i_zhguEojSg8"
   },
   "source": [
    "### **📝 Task 3: Appending New Transactions**\n",
    "#### **🔹 Instructions**\n",
    "1. Modify the previous program to **append** the following new transactions instead of overwriting the file:\n",
    "   ```\n",
    "   Deposit: PKR 5,000\n",
    "   Withdrawal: PKR 1,500\n",
    "   ```\n",
    "2. Ensure the new transactions are added at the end of the file.\n",
    "3. Verify by opening and reading the file after appending.\n",
    "\n",
    "\n"
   ]
  },
  {
   "cell_type": "code",
   "execution_count": 21,
   "metadata": {
    "colab": {
     "base_uri": "https://localhost:8080/"
    },
    "id": "Qwqqp4u4kZOj",
    "outputId": "2146299b-bebc-4676-ad4a-39cef69bb464"
   },
   "outputs": [
    {
     "name": "stdout",
     "output_type": "stream",
     "text": [
      "Deposit: PKR 15,000\n",
      "Withdrawal: PKR 3,000\n",
      "Balance: PKR 62,000\n",
      "Deposit: PKR 5,000\n",
      "Withdrawal: PKR 1,500\n"
     ]
    }
   ],
   "source": [
    "with open(\"new_transactions.txt\",\"w\") as file:\n",
    "    file.write(\"Deposit: PKR 15,000\\n\")\n",
    "    file.write(\"Withdrawal: PKR 3,000\\n\")\n",
    "    file.write(\"Balance: PKR 62,000\")\n",
    "\n",
    "with open(\"new_transactions.txt\",\"a\") as file:\n",
    "    file.write(\"\\nDeposit: PKR 5,000\\n\")\n",
    "    file.write(\"Withdrawal: PKR 1,500\")\n",
    "\n",
    "with open(\"new_transactions.txt\",\"r\") as file:\n",
    "    content = file.read()\n",
    "    print(content)"
   ]
  },
  {
   "cell_type": "markdown",
   "metadata": {
    "id": "LjMN69MCj2Ic"
   },
   "source": [
    "### **📝 Task 4: Reading a Large File Line by Line**\n",
    "#### **🔹 Instructions**\n",
    "1. Modify Task 1’s code to **read the file line by line** instead of loading it all at once.\n",
    "2. Use a loop to print each line individually.\n"
   ]
  },
  {
   "cell_type": "code",
   "execution_count": 23,
   "metadata": {
    "colab": {
     "base_uri": "https://localhost:8080/"
    },
    "id": "9mfWwuGukcen",
    "outputId": "42e74b68-84d9-4ca2-b92a-1c9b6588fd69"
   },
   "outputs": [
    {
     "name": "stdout",
     "output_type": "stream",
     "text": [
      "Deposit: PKR 10,000\n",
      "Withdrawal: PKR 5,000\n",
      "Balance: PKR 50,000\n"
     ]
    }
   ],
   "source": [
    "with open(\"transactions.txt\", \"w\") as file:\n",
    "    file.write(\"Deposit: PKR 10,000\\n\")\n",
    "    file.write(\"Withdrawal: PKR 5,000\\n\")\n",
    "    file.write(\"Balance: PKR 50,000\")\n",
    "\n",
    "with open(\"transactions.txt\", \"r\") as file:\n",
    "    lines = file.readlines()  \n",
    "    for line in lines:\n",
    "        print(line.strip())"
   ]
  },
  {
   "cell_type": "markdown",
   "metadata": {
    "id": "9_oQD2Puj6Zn"
   },
   "source": [
    "### **📝 Task 5: Using `with open()` for Safe File Handling**\n",
    "#### **🔹 Instructions**\n",
    "1. Modify Task 1’s code to use `with open()` for **automatic file closing**.\n",
    "2. Ensure the file closes automatically after reading."
   ]
  },
  {
   "cell_type": "code",
   "execution_count": 5,
   "metadata": {
    "colab": {
     "base_uri": "https://localhost:8080/"
    },
    "id": "I-e4j4tIkfph",
    "outputId": "6b73b4db-c984-4bef-c297-7a8b0bd2171c"
   },
   "outputs": [
    {
     "name": "stdout",
     "output_type": "stream",
     "text": [
      "Deposit: PKR 10,000\n",
      "Withdrawal: PKR 5,000\n",
      "Balance: PKR 50,000\n",
      "\n"
     ]
    }
   ],
   "source": [
    "with open(\"transactions.txt\", \"w\") as file:\n",
    "    file.write(\"Deposit: PKR 10,000\\n\")\n",
    "    file.write(\"Withdrawal: PKR 5,000\\n\")\n",
    "    file.write(\"Balance: PKR 50,000\")\n",
    "\n",
    "with open(\"transactions.txt\", \"r\") as file:\n",
    "    content = file.read()\n",
    "    print(content)"
   ]
  },
  {
   "cell_type": "markdown",
   "metadata": {
    "id": "RyK2RXAcj_X1"
   },
   "source": [
    "### **📝 Task 6: Creating a CSV File**\n",
    "#### **🔹 Instructions**\n",
    "1. Create a CSV file (`transactions.csv`) with the following financial transactions:\n",
    "   ```csv\n",
    "   Date,Transaction Type,Amount,Balance\n",
    "   2024-02-01,Deposit,10000,60000\n",
    "   2024-02-02,Withdrawal,2000,58000\n",
    "   2024-02-03,Deposit,5000,63000\n",
    "   ```\n",
    "2. Save this CSV file correctly.\n"
   ]
  },
  {
   "cell_type": "code",
   "execution_count": 67,
   "metadata": {
    "colab": {
     "base_uri": "https://localhost:8080/"
    },
    "id": "6iFdCLzDkhka",
    "outputId": "47de1728-e4fd-4c36-a593-e377d726d021"
   },
   "outputs": [
    {
     "name": "stdout",
     "output_type": "stream",
     "text": [
      "CSV File Created Succesfully\n"
     ]
    }
   ],
   "source": [
    "import csv\n",
    "\n",
    "transactions = [\n",
    "    [\"Date\", \"Transaction Type\", \"Amount\", \"Balance\"],\n",
    "    [\"2024-02-01\",\"Deposit\",10000,60000],\n",
    "    [\"2024-02-02\",\"Withdrawal\",2000,58000],\n",
    "    [\"2024-02-03\",\"Deposit\",5000,63000]\n",
    "]\n",
    "\n",
    "with open(\"transactions.csv\", \"w\", newline = \"\") as file:\n",
    "    writer = csv.writer(file)\n",
    "    \n",
    "    writer.writerows(transactions)\n",
    "\n",
    "print(\"CSV File Created Succesfully\")"
   ]
  },
  {
   "cell_type": "markdown",
   "metadata": {
    "id": "EGTT7kyXkCEw"
   },
   "source": [
    "### **📝 Task 7: Reading a CSV File**\n",
    "#### **🔹 Instructions**\n",
    "1. Open and read the `transactions.csv` file.\n",
    "2. Print each row separately.\n"
   ]
  },
  {
   "cell_type": "code",
   "execution_count": 49,
   "metadata": {
    "colab": {
     "base_uri": "https://localhost:8080/"
    },
    "id": "b5oQeRLZkkzL",
    "outputId": "e6e2eeda-c38a-46ee-d53d-eeb4af036bf6"
   },
   "outputs": [
    {
     "name": "stdout",
     "output_type": "stream",
     "text": [
      "['Date, Transaction Type, Amount, Balance']\n",
      "['2024-02-01,Deposit,10000,60000']\n",
      "['2024-02-02,Withdrawal,2000,58000']\n",
      "['2024-02-03,Deposit,5000,63000']\n"
     ]
    }
   ],
   "source": [
    "import csv\n",
    "\n",
    "with open(\"transactions.csv\", \"r\") as file:\n",
    "    reader = csv.reader(file)\n",
    "    for row in reader:\n",
    "        print(row)"
   ]
  },
  {
   "cell_type": "markdown",
   "metadata": {
    "id": "1hR4pGZ5kGzV"
   },
   "source": [
    "### **📝 Task 8: Writing to a CSV File**\n",
    "#### **🔹 Instructions**\n",
    "1. Modify the code to write additional transactions to the CSV file.\n",
    "```csv\n",
    "2024-02-04, Deposit, 7000, 70000\n",
    "2024-02-05, Withdrawal, 3000, 67000\n",
    "```"
   ]
  },
  {
   "cell_type": "code",
   "execution_count": 77,
   "metadata": {
    "colab": {
     "base_uri": "https://localhost:8080/"
    },
    "id": "jfQCCwerknn_",
    "outputId": "e9e45f07-f050-458e-81c0-364e1ed0718d"
   },
   "outputs": [
    {
     "name": "stdout",
     "output_type": "stream",
     "text": [
      "New Transactions added to CSV File\n"
     ]
    }
   ],
   "source": [
    "import csv\n",
    "\n",
    "new_transactions = [\n",
    "    [\"2024-02-04\",\"Deposit\", 7000, 70000],\n",
    "    [\"2024-02-05\",\"Withdrawal\", 3000, 67000]\n",
    "]\n",
    "\n",
    "with open(\"transactions.csv\",\"a\", newline = \"\") as file:\n",
    "    writer = csv.writer(file)\n",
    "    writer.writerows(new_transactions)\n",
    "\n",
    "print(\"New Transactions added to CSV File\")\n"
   ]
  },
  {
   "cell_type": "markdown",
   "metadata": {
    "id": "1nCprf7DkK1-"
   },
   "source": [
    "\n",
    "### **📝 Task 9: Reading a CSV with Pandas**\n",
    "#### **🔹 Instructions**\n",
    "1. Load `transactions.csv` into a Pandas DataFrame.\n",
    "2. Display the first 5 rows.\n"
   ]
  },
  {
   "cell_type": "code",
   "execution_count": 83,
   "metadata": {
    "colab": {
     "base_uri": "https://localhost:8080/"
    },
    "id": "eCXPpZBikrVs",
    "outputId": "94d13c11-6f7b-437c-d3ca-b1fabd95037d"
   },
   "outputs": [
    {
     "name": "stdout",
     "output_type": "stream",
     "text": [
      "         Date Transaction Type  Amount  Balance\n",
      "0  2024-02-01          Deposit   10000    60000\n",
      "1  2024-02-02       Withdrawal    2000    58000\n",
      "2  2024-02-03          Deposit    5000    63000\n",
      "3  2024-02-04          Deposit    7000    70000\n",
      "4  2024-02-05       Withdrawal    3000    67000\n"
     ]
    }
   ],
   "source": [
    "import pandas as pd\n",
    "\n",
    "df = pd.read_csv(\"transactions.csv\")\n",
    "\n",
    "print(df.head())"
   ]
  },
  {
   "cell_type": "markdown",
   "metadata": {
    "id": "FBezWiNEjIVG"
   },
   "source": [
    "\n",
    "### **📝 Bonus Task: Basic Data Operations with Pandas**\n",
    "#### **🔹 Instructions**\n",
    "1. Count the number of deposits and withdrawals.\n",
    "2. Display only transactions of type \"Deposit\".\n",
    "\n"
   ]
  },
  {
   "cell_type": "code",
   "execution_count": 93,
   "metadata": {
    "colab": {
     "base_uri": "https://localhost:8080/"
    },
    "id": "syMv8c5Hkwx3",
    "outputId": "55b0d5ca-6073-4e53-8d7c-efbec91ae2b4"
   },
   "outputs": [
    {
     "name": "stdout",
     "output_type": "stream",
     "text": [
      "\n",
      "Count of Transactions by Type:\n",
      "Transaction Type\n",
      "Deposit       3\n",
      "Withdrawal    2\n",
      "Name: count, dtype: int64\n"
     ]
    },
    {
     "ename": "AttributeError",
     "evalue": "'DataFrame' object has no attribute 'group'",
     "output_type": "error",
     "traceback": [
      "\u001b[1;31m---------------------------------------------------------------------------\u001b[0m",
      "\u001b[1;31mAttributeError\u001b[0m                            Traceback (most recent call last)",
      "\u001b[1;32m~\\AppData\\Local\\Temp\\ipykernel_16336\\1380992449.py\u001b[0m in \u001b[0;36m?\u001b[1;34m()\u001b[0m\n\u001b[0;32m      5\u001b[0m \u001b[0mtransaction_count\u001b[0m \u001b[1;33m=\u001b[0m \u001b[0mdf\u001b[0m\u001b[1;33m[\u001b[0m\u001b[1;34m\"Transaction Type\"\u001b[0m\u001b[1;33m]\u001b[0m\u001b[1;33m.\u001b[0m\u001b[0mvalue_counts\u001b[0m\u001b[1;33m(\u001b[0m\u001b[1;33m)\u001b[0m\u001b[1;33m\u001b[0m\u001b[1;33m\u001b[0m\u001b[0m\n\u001b[0;32m      6\u001b[0m \u001b[0mprint\u001b[0m\u001b[1;33m(\u001b[0m\u001b[1;34m\"\\nCount of Transactions by Type:\"\u001b[0m\u001b[1;33m)\u001b[0m\u001b[1;33m\u001b[0m\u001b[1;33m\u001b[0m\u001b[0m\n\u001b[0;32m      7\u001b[0m \u001b[0mprint\u001b[0m\u001b[1;33m(\u001b[0m\u001b[0mtransaction_count\u001b[0m\u001b[1;33m)\u001b[0m\u001b[1;33m\u001b[0m\u001b[1;33m\u001b[0m\u001b[0m\n\u001b[0;32m      8\u001b[0m \u001b[1;33m\u001b[0m\u001b[0m\n\u001b[1;32m----> 9\u001b[1;33m \u001b[0mdeposits\u001b[0m \u001b[1;33m=\u001b[0m \u001b[0mdf\u001b[0m\u001b[1;33m[\u001b[0m\u001b[0mdf\u001b[0m\u001b[1;33m.\u001b[0m\u001b[0mgroup\u001b[0m\u001b[1;33m.\u001b[0m\u001b[0misin\u001b[0m\u001b[1;33m(\u001b[0m\u001b[1;33m[\u001b[0m\u001b[1;34m\"Deposit\"\u001b[0m\u001b[1;33m]\u001b[0m\u001b[1;33m)\u001b[0m\u001b[1;33m]\u001b[0m\u001b[1;33m\u001b[0m\u001b[1;33m\u001b[0m\u001b[0m\n\u001b[0m\u001b[0;32m     10\u001b[0m \u001b[0mprint\u001b[0m\u001b[1;33m(\u001b[0m\u001b[0mdeposits\u001b[0m\u001b[1;33m)\u001b[0m\u001b[1;33m\u001b[0m\u001b[1;33m\u001b[0m\u001b[0m\n",
      "\u001b[1;32m~\\anaconda3\\Lib\\site-packages\\pandas\\core\\generic.py\u001b[0m in \u001b[0;36m?\u001b[1;34m(self, name)\u001b[0m\n\u001b[0;32m   6295\u001b[0m             \u001b[1;32mand\u001b[0m \u001b[0mname\u001b[0m \u001b[1;32mnot\u001b[0m \u001b[1;32min\u001b[0m \u001b[0mself\u001b[0m\u001b[1;33m.\u001b[0m\u001b[0m_accessors\u001b[0m\u001b[1;33m\u001b[0m\u001b[1;33m\u001b[0m\u001b[0m\n\u001b[0;32m   6296\u001b[0m             \u001b[1;32mand\u001b[0m \u001b[0mself\u001b[0m\u001b[1;33m.\u001b[0m\u001b[0m_info_axis\u001b[0m\u001b[1;33m.\u001b[0m\u001b[0m_can_hold_identifiers_and_holds_name\u001b[0m\u001b[1;33m(\u001b[0m\u001b[0mname\u001b[0m\u001b[1;33m)\u001b[0m\u001b[1;33m\u001b[0m\u001b[1;33m\u001b[0m\u001b[0m\n\u001b[0;32m   6297\u001b[0m         \u001b[1;33m)\u001b[0m\u001b[1;33m:\u001b[0m\u001b[1;33m\u001b[0m\u001b[1;33m\u001b[0m\u001b[0m\n\u001b[0;32m   6298\u001b[0m             \u001b[1;32mreturn\u001b[0m \u001b[0mself\u001b[0m\u001b[1;33m[\u001b[0m\u001b[0mname\u001b[0m\u001b[1;33m]\u001b[0m\u001b[1;33m\u001b[0m\u001b[1;33m\u001b[0m\u001b[0m\n\u001b[1;32m-> 6299\u001b[1;33m         \u001b[1;32mreturn\u001b[0m \u001b[0mobject\u001b[0m\u001b[1;33m.\u001b[0m\u001b[0m__getattribute__\u001b[0m\u001b[1;33m(\u001b[0m\u001b[0mself\u001b[0m\u001b[1;33m,\u001b[0m \u001b[0mname\u001b[0m\u001b[1;33m)\u001b[0m\u001b[1;33m\u001b[0m\u001b[1;33m\u001b[0m\u001b[0m\n\u001b[0m",
      "\u001b[1;31mAttributeError\u001b[0m: 'DataFrame' object has no attribute 'group'"
     ]
    }
   ],
   "source": [
    "import pandas as pd\n",
    "df = pd.read_csv(\"transactions.csv\")\n",
    "\n",
    "\n",
    "transaction_count = df[\"Transaction Type\"].value_counts()\n",
    "print(\"\\nCount of Transactions by Type:\")\n",
    "print(transaction_count)\n",
    "\n",
    "deposits = df[df.group.isin([\"Deposit\"])]\n",
    "print(deposits)\n"
   ]
  },
  {
   "cell_type": "markdown",
   "metadata": {
    "id": "jo0GyqaZm1F_"
   },
   "source": [
    "#**Submit your file**"
   ]
  }
 ],
 "metadata": {
  "colab": {
   "provenance": []
  },
  "kernelspec": {
   "display_name": "Python [conda env:base] *",
   "language": "python",
   "name": "conda-base-py"
  },
  "language_info": {
   "codemirror_mode": {
    "name": "ipython",
    "version": 3
   },
   "file_extension": ".py",
   "mimetype": "text/x-python",
   "name": "python",
   "nbconvert_exporter": "python",
   "pygments_lexer": "ipython3",
   "version": "3.12.7"
  }
 },
 "nbformat": 4,
 "nbformat_minor": 4
}
